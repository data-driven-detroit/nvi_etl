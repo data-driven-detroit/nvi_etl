{
 "cells": [
  {
   "cell_type": "code",
   "execution_count": 18,
   "id": "ada01904",
   "metadata": {},
   "outputs": [],
   "source": [
    "from pathlib import Path\n",
    "import geopandas as gpd\n",
    "import pandas as pd\n",
    "from sqlalchemy import text\n",
    "from nvi_etl import make_engine_for"
   ]
  },
  {
   "cell_type": "code",
   "execution_count": 19,
   "id": "aced24d6",
   "metadata": {},
   "outputs": [],
   "source": [
    "index_values = pd.read_csv(\"nvi_values_20250604.csv\")\n",
    "nvi_engine = make_engine_for(\"nvi_test\")\n",
    "etl_engine = make_engine_for(\"data\")"
   ]
  },
  {
   "cell_type": "code",
   "execution_count": 42,
   "id": "4ade3d39",
   "metadata": {},
   "outputs": [],
   "source": [
    "ind_q = text(\" SELECT * FROM indicator;\")\n",
    "geo_q = text(\" SELECT * FROM location;\")\n",
    "\n",
    "\n",
    "with nvi_engine.connect() as db:\n",
    "    indicator_names = pd.read_sql(ind_q, db)\n",
    "    geographies = gpd.read_postgis(geo_q, db, geom_col=\"geometry\")\n"
   ]
  },
  {
   "cell_type": "code",
   "execution_count": 57,
   "id": "aff32019",
   "metadata": {},
   "outputs": [],
   "source": [
    "col_renames = {\n",
    "    row[\"id\"]: row[\"name\"] for _, row in \n",
    "    indicator_names.iterrows()\n",
    "}\n",
    "\n",
    "pivoted = (\n",
    "    index_values\n",
    "    .query(\"survey_question_id.isna()\")\n",
    "    # .merge(indicator_names.rename(columns={\"id\": \"indicator_id\"}), on=\"indicator_id\")\n",
    "    .pivot(\n",
    "        index=\"location_id\",\n",
    "        columns=\"indicator_id\",\n",
    "        values=\"percentage\"\n",
    "    )\n",
    "    .rename(columns=col_renames)\n",
    "    .merge(geographies[[\"id\", \"geometry\"]], left_index=True, right_on=\"id\")\n",
    ")\n",
    "\n",
    "gdf = gpd.GeoDataFrame(pivoted, geometry=\"geometry\")\n",
    "\n",
    "gdf.to_file(\"nvi_results_20250717.geojson\")"
   ]
  },
  {
   "cell_type": "code",
   "execution_count": null,
   "id": "fa2d5dbb",
   "metadata": {},
   "outputs": [],
   "source": []
  }
 ],
 "metadata": {
  "kernelspec": {
   "display_name": "env",
   "language": "python",
   "name": "python3"
  },
  "language_info": {
   "codemirror_mode": {
    "name": "ipython",
    "version": 3
   },
   "file_extension": ".py",
   "mimetype": "text/x-python",
   "name": "python",
   "nbconvert_exporter": "python",
   "pygments_lexer": "ipython3",
   "version": "3.12.9"
  }
 },
 "nbformat": 4,
 "nbformat_minor": 5
}
