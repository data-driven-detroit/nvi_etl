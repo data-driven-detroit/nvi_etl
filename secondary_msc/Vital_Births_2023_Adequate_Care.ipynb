{
 "cells": [
  {
   "cell_type": "code",
   "execution_count": 1,
   "metadata": {},
   "outputs": [],
   "source": [
    "import geopandas as gpd\n",
    "import pandas as pd\n",
    "import numpy as np"
   ]
  },
  {
   "cell_type": "code",
   "execution_count": 2,
   "metadata": {},
   "outputs": [],
   "source": [
    "nvi_shp = gpd.read_file(\"P:/2024_Projects/NVI24/Development/Workspace/Abhi Workspace/Secondary Data Pull/NVI Zones/nvi_neighborhood_zones_temp_2025.shp\")\n",
    "detroit_shp = gpd.read_file(\"P:/2024_Projects/NVI24/Development/Workspace/Abhi Workspace/Secondary Data Pull/City_of_Detroit_Boundary/City_of_Detroit_Boundary.shp\")\n",
    "cd_shp = gpd.read_file(\"P:/2024_Projects/NVI24/Development/Workspace/Abhi Workspace/Secondary Data Pull/Detroit_City_Council_Districts_2026/Detroit_City_Council_Districts_2026.shp\")"
   ]
  },
  {
   "cell_type": "code",
   "execution_count": 3,
   "metadata": {},
   "outputs": [],
   "source": [
    "# Load birth data from csv\n",
    "births_df = pd.read_csv('Q:/Vital Records/2023/2023 Birth Files.csv', low_memory=False)"
   ]
  },
  {
   "cell_type": "code",
   "execution_count": 4,
   "metadata": {},
   "outputs": [],
   "source": [
    "# Assuming the birth data contains 'latitude' and 'longitude' columns\n",
    "# Convert to a GeoDataFrame\n",
    "births_gdf = gpd.GeoDataFrame(\n",
    "    births_df, \n",
    "    geometry=gpd.points_from_xy(births_df.LONGITUDE, births_df.LATITUDE), \n",
    "    crs=\"EPSG:4326\")"
   ]
  },
  {
   "cell_type": "markdown",
   "metadata": {},
   "source": [
    "### Detroit - City Wide"
   ]
  },
  {
   "cell_type": "code",
   "execution_count": 5,
   "metadata": {},
   "outputs": [
    {
     "data": {
      "text/html": [
       "<div>\n",
       "<style scoped>\n",
       "    .dataframe tbody tr th:only-of-type {\n",
       "        vertical-align: middle;\n",
       "    }\n",
       "\n",
       "    .dataframe tbody tr th {\n",
       "        vertical-align: top;\n",
       "    }\n",
       "\n",
       "    .dataframe thead th {\n",
       "        text-align: right;\n",
       "    }\n",
       "</style>\n",
       "<table border=\"1\" class=\"dataframe\">\n",
       "  <thead>\n",
       "    <tr style=\"text-align: right;\">\n",
       "      <th></th>\n",
       "      <th>name</th>\n",
       "      <th>total_births</th>\n",
       "      <th>kessner_1_count</th>\n",
       "      <th>percentage_adequate</th>\n",
       "    </tr>\n",
       "  </thead>\n",
       "  <tbody>\n",
       "    <tr>\n",
       "      <th>0</th>\n",
       "      <td>Detroit</td>\n",
       "      <td>7426</td>\n",
       "      <td>4594</td>\n",
       "      <td>61.863722</td>\n",
       "    </tr>\n",
       "  </tbody>\n",
       "</table>\n",
       "</div>"
      ],
      "text/plain": [
       "      name  total_births  kessner_1_count  percentage_adequate\n",
       "0  Detroit          7426             4594            61.863722"
      ]
     },
     "metadata": {},
     "output_type": "display_data"
    }
   ],
   "source": [
    "# Ensure both GeoDataFrames have the same CRS\n",
    "births_gdf = births_gdf.to_crs(detroit_shp.crs)\n",
    "\n",
    "# Perform a spatial join to assign births to geographic areas\n",
    "births_with_geography = gpd.sjoin(births_gdf, detroit_shp, how=\"left\", predicate=\"within\")\n",
    "\n",
    "#No of rows in the data\n",
    "total_births = births_with_geography.groupby(\"name\")[\"KESSNER\"].count().reset_index()\n",
    "total_births.columns = [\"name\", \"total_births\"]\n",
    "\n",
    "# Filter for births where kesser == 1\n",
    "births_kesser_1 = births_with_geography[births_with_geography[\"KESSNER\"] == 1]\n",
    "\n",
    "# Aggregate count of kesser = 1 by geographic area (e.g., 'zone' column from shapefile)\n",
    "adequate_care_counts = births_kesser_1.groupby(\"name\")[\"KESSNER\"].count().reset_index()\n",
    "adequate_care_counts.columns = [\"name\", \"kessner_1_count\"]\n",
    "\n",
    "births_summary = total_births.merge(adequate_care_counts, on=\"name\", how=\"left\")\n",
    "births_summary[\"percentage_adequate\"] = (births_summary[\"kessner_1_count\"] / births_summary[\"total_births\"]) * 100\n",
    "\n",
    "display(births_summary)"
   ]
  },
  {
   "cell_type": "markdown",
   "metadata": {},
   "source": [
    "### NVI Zones"
   ]
  },
  {
   "cell_type": "code",
   "execution_count": 9,
   "metadata": {},
   "outputs": [
    {
     "data": {
      "text/html": [
       "<div>\n",
       "<style scoped>\n",
       "    .dataframe tbody tr th:only-of-type {\n",
       "        vertical-align: middle;\n",
       "    }\n",
       "\n",
       "    .dataframe tbody tr th {\n",
       "        vertical-align: top;\n",
       "    }\n",
       "\n",
       "    .dataframe thead th {\n",
       "        text-align: right;\n",
       "    }\n",
       "</style>\n",
       "<table border=\"1\" class=\"dataframe\">\n",
       "  <thead>\n",
       "    <tr style=\"text-align: right;\">\n",
       "      <th></th>\n",
       "      <th>district_n</th>\n",
       "      <th>total_births</th>\n",
       "      <th>kessner_1_count</th>\n",
       "      <th>percentage_adequate</th>\n",
       "    </tr>\n",
       "  </thead>\n",
       "  <tbody>\n",
       "    <tr>\n",
       "      <th>0</th>\n",
       "      <td>1</td>\n",
       "      <td>959</td>\n",
       "      <td>626</td>\n",
       "      <td>65.276330</td>\n",
       "    </tr>\n",
       "    <tr>\n",
       "      <th>1</th>\n",
       "      <td>2</td>\n",
       "      <td>930</td>\n",
       "      <td>607</td>\n",
       "      <td>65.268817</td>\n",
       "    </tr>\n",
       "    <tr>\n",
       "      <th>2</th>\n",
       "      <td>3</td>\n",
       "      <td>1261</td>\n",
       "      <td>772</td>\n",
       "      <td>61.221253</td>\n",
       "    </tr>\n",
       "    <tr>\n",
       "      <th>3</th>\n",
       "      <td>4</td>\n",
       "      <td>1033</td>\n",
       "      <td>565</td>\n",
       "      <td>54.695063</td>\n",
       "    </tr>\n",
       "    <tr>\n",
       "      <th>4</th>\n",
       "      <td>5</td>\n",
       "      <td>846</td>\n",
       "      <td>537</td>\n",
       "      <td>63.475177</td>\n",
       "    </tr>\n",
       "    <tr>\n",
       "      <th>5</th>\n",
       "      <td>6</td>\n",
       "      <td>1086</td>\n",
       "      <td>642</td>\n",
       "      <td>59.116022</td>\n",
       "    </tr>\n",
       "    <tr>\n",
       "      <th>6</th>\n",
       "      <td>7</td>\n",
       "      <td>1320</td>\n",
       "      <td>848</td>\n",
       "      <td>64.242424</td>\n",
       "    </tr>\n",
       "  </tbody>\n",
       "</table>\n",
       "</div>"
      ],
      "text/plain": [
       "  district_n  total_births  kessner_1_count  percentage_adequate\n",
       "0          1           959              626            65.276330\n",
       "1          2           930              607            65.268817\n",
       "2          3          1261              772            61.221253\n",
       "3          4          1033              565            54.695063\n",
       "4          5           846              537            63.475177\n",
       "5          6          1086              642            59.116022\n",
       "6          7          1320              848            64.242424"
      ]
     },
     "metadata": {},
     "output_type": "display_data"
    }
   ],
   "source": [
    "# Ensure both GeoDataFrames have the same CRS\n",
    "births_gdf = births_gdf.to_crs(nvi_shp.crs)\n",
    "\n",
    "# Spatial join: Assign each point to a polygon\n",
    "merged_gdf = gpd.sjoin(births_gdf, nvi_shp, how=\"left\", predicate=\"intersects\")\n",
    "\n",
    "#No of rows in the data\n",
    "total_births_nvi = merged_gdf.groupby(\"district_n\")[\"KESSNER\"].count().reset_index()\n",
    "total_births_nvi.columns = [\"district_n\", \"total_births\"]\n",
    "\n",
    "# Filter for births where kesser == 1\n",
    "births_kesser_1_nvi = merged_gdf[merged_gdf[\"KESSNER\"] == 1]\n",
    "\n",
    "# Aggregate count of kesser = 1 by geographic area (e.g., 'zone' column from shapefile)\n",
    "adequate_care_counts_nvi = births_kesser_1_nvi.groupby(\"district_n\")[\"KESSNER\"].count().reset_index()\n",
    "adequate_care_counts_nvi.columns = [\"district_n\", \"kessner_1_count\"]\n",
    "\n",
    "births_summary_nvi = total_births_nvi.merge(adequate_care_counts_nvi, on=\"district_n\", how=\"left\")\n",
    "births_summary_nvi[\"percentage_adequate\"] = (births_summary_nvi[\"kessner_1_count\"] / births_summary_nvi[\"total_births\"]) * 100\n",
    "\n",
    "display(births_summary_nvi)"
   ]
  },
  {
   "cell_type": "markdown",
   "metadata": {},
   "source": [
    "### Council Districts 2026"
   ]
  },
  {
   "cell_type": "code",
   "execution_count": 10,
   "metadata": {},
   "outputs": [
    {
     "data": {
      "text/html": [
       "<div>\n",
       "<style scoped>\n",
       "    .dataframe tbody tr th:only-of-type {\n",
       "        vertical-align: middle;\n",
       "    }\n",
       "\n",
       "    .dataframe tbody tr th {\n",
       "        vertical-align: top;\n",
       "    }\n",
       "\n",
       "    .dataframe thead th {\n",
       "        text-align: right;\n",
       "    }\n",
       "</style>\n",
       "<table border=\"1\" class=\"dataframe\">\n",
       "  <thead>\n",
       "    <tr style=\"text-align: right;\">\n",
       "      <th></th>\n",
       "      <th>council_di</th>\n",
       "      <th>total_births</th>\n",
       "      <th>kessner_1_count</th>\n",
       "      <th>percentage_adequate</th>\n",
       "    </tr>\n",
       "  </thead>\n",
       "  <tbody>\n",
       "    <tr>\n",
       "      <th>0</th>\n",
       "      <td>1.0</td>\n",
       "      <td>958</td>\n",
       "      <td>625</td>\n",
       "      <td>65.240084</td>\n",
       "    </tr>\n",
       "    <tr>\n",
       "      <th>1</th>\n",
       "      <td>2.0</td>\n",
       "      <td>926</td>\n",
       "      <td>605</td>\n",
       "      <td>65.334773</td>\n",
       "    </tr>\n",
       "    <tr>\n",
       "      <th>2</th>\n",
       "      <td>3.0</td>\n",
       "      <td>1266</td>\n",
       "      <td>775</td>\n",
       "      <td>61.216430</td>\n",
       "    </tr>\n",
       "    <tr>\n",
       "      <th>3</th>\n",
       "      <td>4.0</td>\n",
       "      <td>1042</td>\n",
       "      <td>570</td>\n",
       "      <td>54.702495</td>\n",
       "    </tr>\n",
       "    <tr>\n",
       "      <th>4</th>\n",
       "      <td>5.0</td>\n",
       "      <td>821</td>\n",
       "      <td>523</td>\n",
       "      <td>63.702801</td>\n",
       "    </tr>\n",
       "    <tr>\n",
       "      <th>5</th>\n",
       "      <td>6.0</td>\n",
       "      <td>1097</td>\n",
       "      <td>650</td>\n",
       "      <td>59.252507</td>\n",
       "    </tr>\n",
       "    <tr>\n",
       "      <th>6</th>\n",
       "      <td>7.0</td>\n",
       "      <td>1316</td>\n",
       "      <td>846</td>\n",
       "      <td>64.285714</td>\n",
       "    </tr>\n",
       "  </tbody>\n",
       "</table>\n",
       "</div>"
      ],
      "text/plain": [
       "   council_di  total_births  kessner_1_count  percentage_adequate\n",
       "0         1.0           958              625            65.240084\n",
       "1         2.0           926              605            65.334773\n",
       "2         3.0          1266              775            61.216430\n",
       "3         4.0          1042              570            54.702495\n",
       "4         5.0           821              523            63.702801\n",
       "5         6.0          1097              650            59.252507\n",
       "6         7.0          1316              846            64.285714"
      ]
     },
     "metadata": {},
     "output_type": "display_data"
    }
   ],
   "source": [
    "# Ensure both GeoDataFrames have the same CRS\n",
    "births_gdf_cd = births_gdf.to_crs(cd_shp.crs)\n",
    "\n",
    "# Perform a spatial join to assign births to geographic areas\n",
    "births_with_cd = gpd.sjoin(births_gdf_cd, cd_shp, how=\"left\", predicate=\"within\")\n",
    "\n",
    "#No of rows in the data\n",
    "total_births_cd = births_with_cd.groupby(\"council_di\")[\"KESSNER\"].count().reset_index()\n",
    "total_births_cd.columns = [\"council_di\", \"total_births\"]\n",
    "\n",
    "# Filter for births where kesser == 1\n",
    "births_kesser_1_cd = births_with_cd[births_with_cd[\"KESSNER\"] == 1]\n",
    "\n",
    "# Aggregate count of kesser = 1 by geographic area (e.g., 'zone' column from shapefile)\n",
    "adequate_care_counts_cd = births_kesser_1_cd.groupby(\"council_di\")[\"KESSNER\"].count().reset_index()\n",
    "adequate_care_counts_cd.columns = [\"council_di\", \"kessner_1_count\"]\n",
    "\n",
    "births_summary_cd = total_births_cd.merge(adequate_care_counts_cd, on=\"council_di\", how=\"left\")\n",
    "births_summary_cd[\"percentage_adequate\"] = (births_summary_cd[\"kessner_1_count\"] / births_summary_cd[\"total_births\"]) * 100\n",
    "\n",
    "display(births_summary_cd)"
   ]
  }
 ],
 "metadata": {
  "kernelspec": {
   "display_name": "Python 3",
   "language": "python",
   "name": "python3"
  },
  "language_info": {
   "codemirror_mode": {
    "name": "ipython",
    "version": 3
   },
   "file_extension": ".py",
   "mimetype": "text/x-python",
   "name": "python",
   "nbconvert_exporter": "python",
   "pygments_lexer": "ipython3",
   "version": "3.11.9"
  }
 },
 "nbformat": 4,
 "nbformat_minor": 2
}
