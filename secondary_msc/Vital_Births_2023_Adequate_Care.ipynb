{
 "cells": [
  {
   "cell_type": "code",
   "execution_count": 1,
   "metadata": {},
   "outputs": [],
   "source": [
    "import geopandas as gpd\n",
    "import pandas as pd\n",
    "import numpy as np"
   ]
  },
  {
   "cell_type": "code",
   "execution_count": 13,
   "metadata": {},
   "outputs": [],
   "source": [
    "nvi_shp = gpd.read_file(\"P:/2024_Projects/NVI24/Development/Workspace/Abhi Workspace/Secondary Data Pull/Temp_NVIZones2026v2__20250226/Temp_NVIZones2026v2__20250226.shp\")\n",
    "detroit_shp = gpd.read_file(\"P:/2024_Projects/NVI24/Development/Workspace/Abhi Workspace/Secondary Data Pull/City_of_Detroit_Boundary/City_of_Detroit_Boundary.shp\")\n",
    "cd_shp = gpd.read_file(\"P:/2024_Projects/NVI24/Development/Workspace/Abhi Workspace/Secondary Data Pull/Detroit_City_Council_Districts_2026/Detroit_City_Council_Districts_2026.shp\")"
   ]
  },
  {
   "cell_type": "code",
   "execution_count": 3,
   "metadata": {},
   "outputs": [],
   "source": [
    "# Load birth data from csv\n",
    "births_df = pd.read_csv('Q:/Vital Records/2023/2023 Birth Files.csv', low_memory=False)"
   ]
  },
  {
   "cell_type": "code",
   "execution_count": 4,
   "metadata": {},
   "outputs": [],
   "source": [
    "# Assuming the birth data contains 'latitude' and 'longitude' columns\n",
    "# Convert to a GeoDataFrame\n",
    "births_gdf = gpd.GeoDataFrame(\n",
    "    births_df, \n",
    "    geometry=gpd.points_from_xy(births_df.LONGITUDE, births_df.LATITUDE), \n",
    "    crs=\"EPSG:4326\")"
   ]
  },
  {
   "cell_type": "markdown",
   "metadata": {},
   "source": [
    "### Detroit - City Wide"
   ]
  },
  {
   "cell_type": "code",
   "execution_count": 7,
   "metadata": {},
   "outputs": [
    {
     "data": {
      "text/html": [
       "<div>\n",
       "<style scoped>\n",
       "    .dataframe tbody tr th:only-of-type {\n",
       "        vertical-align: middle;\n",
       "    }\n",
       "\n",
       "    .dataframe tbody tr th {\n",
       "        vertical-align: top;\n",
       "    }\n",
       "\n",
       "    .dataframe thead th {\n",
       "        text-align: right;\n",
       "    }\n",
       "</style>\n",
       "<table border=\"1\" class=\"dataframe\">\n",
       "  <thead>\n",
       "    <tr style=\"text-align: right;\">\n",
       "      <th></th>\n",
       "      <th>name</th>\n",
       "      <th>total_births</th>\n",
       "      <th>kessner_1_count</th>\n",
       "      <th>percentage_adequate</th>\n",
       "    </tr>\n",
       "  </thead>\n",
       "  <tbody>\n",
       "    <tr>\n",
       "      <th>0</th>\n",
       "      <td>Detroit</td>\n",
       "      <td>7426</td>\n",
       "      <td>4594</td>\n",
       "      <td>61.863722</td>\n",
       "    </tr>\n",
       "  </tbody>\n",
       "</table>\n",
       "</div>"
      ],
      "text/plain": [
       "      name  total_births  kessner_1_count  percentage_adequate\n",
       "0  Detroit          7426             4594            61.863722"
      ]
     },
     "metadata": {},
     "output_type": "display_data"
    }
   ],
   "source": [
    "# Ensure both GeoDataFrames have the same CRS\n",
    "births_gdf = births_gdf.to_crs(detroit_shp.crs)\n",
    "\n",
    "# Perform a spatial join to assign births to geographic areas\n",
    "births_with_geography = gpd.sjoin(births_gdf, detroit_shp, how=\"left\", predicate=\"within\")\n",
    "\n",
    "#No of rows in the data\n",
    "total_births = births_with_geography.groupby(\"name\")[\"KESSNER\"].count().reset_index()\n",
    "total_births.columns = [\"name\", \"total_births\"]\n",
    "\n",
    "# Filter for births where kesser == 1\n",
    "births_kesser_1 = births_with_geography[births_with_geography[\"KESSNER\"] == 1]\n",
    "\n",
    "# Aggregate count of kesser = 1 by geographic area (e.g., 'zone' column from shapefile)\n",
    "adequate_care_counts = births_kesser_1.groupby(\"name\")[\"KESSNER\"].count().reset_index()\n",
    "adequate_care_counts.columns = [\"name\", \"kessner_1_count\"]\n",
    "\n",
    "births_summary = total_births.merge(adequate_care_counts, on=\"name\", how=\"left\")\n",
    "births_summary[\"percentage_adequate\"] = (births_summary[\"kessner_1_count\"] / births_summary[\"total_births\"]) * 100\n",
    "\n",
    "display(births_summary)"
   ]
  },
  {
   "cell_type": "markdown",
   "metadata": {},
   "source": [
    "### NVI Zones"
   ]
  },
  {
   "cell_type": "code",
   "execution_count": 16,
   "metadata": {},
   "outputs": [
    {
     "name": "stdout",
     "output_type": "stream",
     "text": [
      "      OCCST  OCCCO  OCCMCD  RESST  RESCO  RESMCD           CENSUS  HOSPITAL  \\\n",
      "0       023     33  6000.0     23     33     400  260650007001023         1   \n",
      "1       023     63  4900.0     23     63    1300  261251668001012        19   \n",
      "2       023     63  4900.0     23     82    2200  261635695001012        19   \n",
      "3       023     82  8900.0     23     82    1600  261635798002006       524   \n",
      "4       023     82  8900.0     23     82    7700  261635837002006       524   \n",
      "...     ...    ...     ...    ...    ...     ...              ...       ...   \n",
      "99174   049     99  9999.0     23     46     200                0       999   \n",
      "99175   049     99  9999.0     23     82    1400                0       999   \n",
      "99176   049     99  9999.0     23     52    5352                0       999   \n",
      "99177    YC     99  9999.0     23     24     400                0       999   \n",
      "99178    YC     99  9999.0     23     82    1400                0       999   \n",
      "\n",
      "       BXYEAR  BXMONTH  ...  LONGITUDE                    geometry  \\\n",
      "0        2023        1  ... -84.555414   POINT (-84.55541 42.7401)   \n",
      "1        2023        1  ... -83.321012  POINT (-83.32101 42.48188)   \n",
      "2        2023        1  ... -83.357555  POINT (-83.35755 42.32236)   \n",
      "3        2023        1  ... -83.144635  POINT (-83.14464 42.25059)   \n",
      "4        2023        1  ... -83.273704   POINT (-83.2737 42.25092)   \n",
      "...       ...      ...  ...        ...                         ...   \n",
      "99174    2023        6  ...        NaN                 POINT EMPTY   \n",
      "99175    2023        7  ...        NaN                 POINT EMPTY   \n",
      "99176    2023       11  ...        NaN                 POINT EMPTY   \n",
      "99177    2023        6  ...        NaN                 POINT EMPTY   \n",
      "99178    2023       10  ...        NaN                 POINT EMPTY   \n",
      "\n",
      "       index_right  FID_1  DistrictNu  ZoneName  Shape__Are  Shape__Len  \\\n",
      "0              NaN    NaN         NaN       NaN         NaN         NaN   \n",
      "1              NaN    NaN         NaN       NaN         NaN         NaN   \n",
      "2              NaN    NaN         NaN       NaN         NaN         NaN   \n",
      "3              NaN    NaN         NaN       NaN         NaN         NaN   \n",
      "4              NaN    NaN         NaN       NaN         NaN         NaN   \n",
      "...            ...    ...         ...       ...         ...         ...   \n",
      "99174          NaN    NaN         NaN       NaN         NaN         NaN   \n",
      "99175          NaN    NaN         NaN       NaN         NaN         NaN   \n",
      "99176          NaN    NaN         NaN       NaN         NaN         NaN   \n",
      "99177          NaN    NaN         NaN       NaN         NaN         NaN   \n",
      "99178          NaN    NaN         NaN       NaN         NaN         NaN   \n",
      "\n",
      "       Shape__A_1  Shape__L_1  \n",
      "0             NaN         NaN  \n",
      "1             NaN         NaN  \n",
      "2             NaN         NaN  \n",
      "3             NaN         NaN  \n",
      "4             NaN         NaN  \n",
      "...           ...         ...  \n",
      "99174         NaN         NaN  \n",
      "99175         NaN         NaN  \n",
      "99176         NaN         NaN  \n",
      "99177         NaN         NaN  \n",
      "99178         NaN         NaN  \n",
      "\n",
      "[99179 rows x 71 columns]\n"
     ]
    },
    {
     "data": {
      "text/html": [
       "<div>\n",
       "<style scoped>\n",
       "    .dataframe tbody tr th:only-of-type {\n",
       "        vertical-align: middle;\n",
       "    }\n",
       "\n",
       "    .dataframe tbody tr th {\n",
       "        vertical-align: top;\n",
       "    }\n",
       "\n",
       "    .dataframe thead th {\n",
       "        text-align: right;\n",
       "    }\n",
       "</style>\n",
       "<table border=\"1\" class=\"dataframe\">\n",
       "  <thead>\n",
       "    <tr style=\"text-align: right;\">\n",
       "      <th></th>\n",
       "      <th>DistrictNu</th>\n",
       "      <th>total_births</th>\n",
       "      <th>kessner_1_count</th>\n",
       "      <th>percentage_adequate</th>\n",
       "    </tr>\n",
       "  </thead>\n",
       "  <tbody>\n",
       "  </tbody>\n",
       "</table>\n",
       "</div>"
      ],
      "text/plain": [
       "Empty DataFrame\n",
       "Columns: [DistrictNu, total_births, kessner_1_count, percentage_adequate]\n",
       "Index: []"
      ]
     },
     "metadata": {},
     "output_type": "display_data"
    }
   ],
   "source": [
    "nvi_shp.set_crs(epsg=4326, inplace=True)\n",
    "\n",
    "# Ensure both GeoDataFrames have the same CRS\n",
    "births_gdf = births_gdf.to_crs(nvi_shp.crs)\n",
    "\n",
    "# Spatial join: Assign each point to a polygon\n",
    "merged_gdf = gpd.sjoin(births_gdf, nvi_shp, how=\"left\", predicate=\"intersects\")\n",
    "print(merged_gdf)\n",
    "\n",
    "#No of rows in the data\n",
    "total_births_nvi = merged_gdf.groupby(\"DistrictNu\")[\"KESSNER\"].count().reset_index()\n",
    "total_births_nvi.columns = [\"DistrictNu\", \"total_births\"]\n",
    "\n",
    "# Filter for births where kesser == 1\n",
    "births_kesser_1_nvi = merged_gdf[merged_gdf[\"KESSNER\"] == 1]\n",
    "\n",
    "# Aggregate count of kesser = 1 by geographic area (e.g., 'zone' column from shapefile)\n",
    "adequate_care_counts_nvi = births_kesser_1_nvi.groupby(\"DistrictNu\")[\"KESSNER\"].count().reset_index()\n",
    "adequate_care_counts_nvi.columns = [\"DistrictNu\", \"kessner_1_count\"]\n",
    "\n",
    "births_summary_nvi = total_births_nvi.merge(adequate_care_counts_nvi, on=\"DistrictNu\", how=\"left\")\n",
    "births_summary_nvi[\"percentage_adequate\"] = (births_summary_nvi[\"kessner_1_count\"] / births_summary_nvi[\"total_births\"]) * 100\n",
    "\n",
    "display(births_summary_nvi)"
   ]
  },
  {
   "cell_type": "code",
   "execution_count": 9,
   "metadata": {},
   "outputs": [
    {
     "name": "stdout",
     "output_type": "stream",
     "text": [
      "Points intersecting with polygons: 0 out of 99179\n"
     ]
    }
   ],
   "source": [
    "point_in_poly_count = sum(1 for point in births_gdf.geometry for poly in nvi_shp.geometry if point.intersects(poly))\n",
    "print(f\"Points intersecting with polygons: {point_in_poly_count} out of {len(births_gdf)}\")"
   ]
  },
  {
   "cell_type": "markdown",
   "metadata": {},
   "source": [
    "### Council Districts 2026"
   ]
  },
  {
   "cell_type": "code",
   "execution_count": null,
   "metadata": {},
   "outputs": [
    {
     "name": "stdout",
     "output_type": "stream",
     "text": [
      "Index(['OCCST', 'OCCCO', 'OCCMCD', 'RESST', 'RESCO', 'RESMCD', 'CENSUS',\n",
      "       'HOSPITAL', 'BXYEAR', 'BXMONTH', 'PLURALITY', 'POUNDS', 'OUNCES',\n",
      "       'GRAMS', 'ATTENDANT', 'MOMAGE', 'MOMEDUC', 'NOWLIVING', 'NOWDEAD',\n",
      "       'BORNDEAD', 'LASTLVBXYR', 'LASTLVBXMO', 'MONTHCAREBEG', 'PRENCARE',\n",
      "       'FRSTVISMO', 'FRSTVISDY', 'FRSTVISYR', 'LSTVISMO', 'LSTVISDY',\n",
      "       'LSTVISYR', 'PRENVISIT', 'CALCGEST', 'DADAGE', 'DADEDUC', 'ESTWKSGEST',\n",
      "       'MARITALSTATUS', 'MOMZIP', 'PAYSOURCE', 'BXPLACE', 'SmokedEver',\n",
      "       'QUITSMOKE', 'QUITMO', 'QUITDAY', 'QUITYR', 'OTHERSMOKE', 'MOMHISP',\n",
      "       'FATHHISP', 'RF_ALCOHOL', 'WIC', 'BRIDGEMOMRACE', 'BRIDGEDADRACE',\n",
      "       'NAMEDPARENT', 'SMOKEDPREG', 'SMOK3MOPP', 'SMOK1STTRIM', 'SMOK2NDTRIM',\n",
      "       'SMOK3RDTRIM', 'BMI', 'KESSNER', 'KOTELCHUCK', 'LATITUDE', 'LONGITUDE',\n",
      "       'geometry', 'index_right', 'council_di', 'district_n', 'district_1',\n",
      "       'legal_desc', 'ObjectId', 'Shape__Are', 'Shape__Len'],\n",
      "      dtype='object')\n"
     ]
    },
    {
     "data": {
      "text/html": [
       "<div>\n",
       "<style scoped>\n",
       "    .dataframe tbody tr th:only-of-type {\n",
       "        vertical-align: middle;\n",
       "    }\n",
       "\n",
       "    .dataframe tbody tr th {\n",
       "        vertical-align: top;\n",
       "    }\n",
       "\n",
       "    .dataframe thead th {\n",
       "        text-align: right;\n",
       "    }\n",
       "</style>\n",
       "<table border=\"1\" class=\"dataframe\">\n",
       "  <thead>\n",
       "    <tr style=\"text-align: right;\">\n",
       "      <th></th>\n",
       "      <th>council_di</th>\n",
       "      <th>total_births</th>\n",
       "      <th>kessner_1_count</th>\n",
       "      <th>percentage_adequate</th>\n",
       "    </tr>\n",
       "  </thead>\n",
       "  <tbody>\n",
       "    <tr>\n",
       "      <th>0</th>\n",
       "      <td>1.0</td>\n",
       "      <td>958</td>\n",
       "      <td>625</td>\n",
       "      <td>65.240084</td>\n",
       "    </tr>\n",
       "    <tr>\n",
       "      <th>1</th>\n",
       "      <td>2.0</td>\n",
       "      <td>926</td>\n",
       "      <td>605</td>\n",
       "      <td>65.334773</td>\n",
       "    </tr>\n",
       "    <tr>\n",
       "      <th>2</th>\n",
       "      <td>3.0</td>\n",
       "      <td>1266</td>\n",
       "      <td>775</td>\n",
       "      <td>61.216430</td>\n",
       "    </tr>\n",
       "    <tr>\n",
       "      <th>3</th>\n",
       "      <td>4.0</td>\n",
       "      <td>1042</td>\n",
       "      <td>570</td>\n",
       "      <td>54.702495</td>\n",
       "    </tr>\n",
       "    <tr>\n",
       "      <th>4</th>\n",
       "      <td>5.0</td>\n",
       "      <td>821</td>\n",
       "      <td>523</td>\n",
       "      <td>63.702801</td>\n",
       "    </tr>\n",
       "    <tr>\n",
       "      <th>5</th>\n",
       "      <td>6.0</td>\n",
       "      <td>1097</td>\n",
       "      <td>650</td>\n",
       "      <td>59.252507</td>\n",
       "    </tr>\n",
       "    <tr>\n",
       "      <th>6</th>\n",
       "      <td>7.0</td>\n",
       "      <td>1316</td>\n",
       "      <td>846</td>\n",
       "      <td>64.285714</td>\n",
       "    </tr>\n",
       "  </tbody>\n",
       "</table>\n",
       "</div>"
      ],
      "text/plain": [
       "   council_di  total_births  kessner_1_count  percentage_adequate\n",
       "0         1.0           958              625            65.240084\n",
       "1         2.0           926              605            65.334773\n",
       "2         3.0          1266              775            61.216430\n",
       "3         4.0          1042              570            54.702495\n",
       "4         5.0           821              523            63.702801\n",
       "5         6.0          1097              650            59.252507\n",
       "6         7.0          1316              846            64.285714"
      ]
     },
     "metadata": {},
     "output_type": "display_data"
    }
   ],
   "source": [
    "# Ensure both GeoDataFrames have the same CRS\n",
    "births_gdf_cd = births_gdf.to_crs(cd_shp.crs)\n",
    "\n",
    "# Perform a spatial join to assign births to geographic areas\n",
    "births_with_cd = gpd.sjoin(births_gdf_cd, cd_shp, how=\"left\", predicate=\"within\")\n",
    "\n",
    "#No of rows in the data\n",
    "total_births_cd = births_with_cd.groupby(\"council_di\")[\"KESSNER\"].count().reset_index()\n",
    "total_births_cd.columns = [\"council_di\", \"total_births\"]\n",
    "\n",
    "# Filter for births where kesser == 1\n",
    "births_kesser_1_cd = births_with_cd[births_with_cd[\"KESSNER\"] == 1]\n",
    "\n",
    "# Aggregate count of kesser = 1 by geographic area (e.g., 'zone' column from shapefile)\n",
    "adequate_care_counts_cd = births_kesser_1_cd.groupby(\"council_di\")[\"KESSNER\"].count().reset_index()\n",
    "adequate_care_counts_cd.columns = [\"council_di\", \"kessner_1_count\"]\n",
    "\n",
    "births_summary_cd = total_births_cd.merge(adequate_care_counts_cd, on=\"council_di\", how=\"left\")\n",
    "births_summary_cd[\"percentage_adequate\"] = (births_summary_cd[\"kessner_1_count\"] / births_summary_cd[\"total_births\"]) * 100\n",
    "\n",
    "display(births_summary_cd)"
   ]
  }
 ],
 "metadata": {
  "kernelspec": {
   "display_name": "Python 3",
   "language": "python",
   "name": "python3"
  },
  "language_info": {
   "codemirror_mode": {
    "name": "ipython",
    "version": 3
   },
   "file_extension": ".py",
   "mimetype": "text/x-python",
   "name": "python",
   "nbconvert_exporter": "python",
   "pygments_lexer": "ipython3",
   "version": "3.11.9"
  }
 },
 "nbformat": 4,
 "nbformat_minor": 2
}
