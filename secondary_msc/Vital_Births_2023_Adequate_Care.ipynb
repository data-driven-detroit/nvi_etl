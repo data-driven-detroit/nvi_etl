{
 "cells": [
  {
   "cell_type": "code",
   "execution_count": 53,
   "metadata": {},
   "outputs": [],
   "source": [
    "import geopandas as gpd\n",
    "import pandas as pd\n",
    "import numpy as np"
   ]
  },
  {
   "cell_type": "code",
   "execution_count": 54,
   "metadata": {},
   "outputs": [],
   "source": [
    "nvi_shp = gpd.read_file(\"P:/2024_Projects/NVI24/Development/Workspace/Abhi Workspace/Secondary Data Pull/Temp_NVIZones2026v2__20250226/Temp_NVIZones2026v2__20250226.shp\")\n",
    "detroit_shp = gpd.read_file(\"P:/2024_Projects/NVI24/Development/Workspace/Abhi Workspace/Secondary Data Pull/City_of_Detroit_Boundary/City_of_Detroit_Boundary.shp\")\n"
   ]
  },
  {
   "cell_type": "code",
   "execution_count": 55,
   "metadata": {},
   "outputs": [
    {
     "name": "stderr",
     "output_type": "stream",
     "text": [
      "C:\\Users\\abhi\\AppData\\Local\\Temp\\ipykernel_22836\\1927482806.py:2: DtypeWarning: Columns (0,36) have mixed types. Specify dtype option on import or set low_memory=False.\n",
      "  births_df = pd.read_csv('Q:/Vital Records/2023/2023 Birth Files.csv')\n"
     ]
    }
   ],
   "source": [
    "# Load birth data from csv\n",
    "births_df = pd.read_csv('Q:/Vital Records/2023/2023 Birth Files.csv')\n"
   ]
  },
  {
   "cell_type": "code",
   "execution_count": 56,
   "metadata": {},
   "outputs": [],
   "source": [
    "# Assuming the birth data contains 'latitude' and 'longitude' columns\n",
    "# Convert to a GeoDataFrame\n",
    "births_gdf = gpd.GeoDataFrame(\n",
    "    births_df, \n",
    "    geometry=gpd.points_from_xy(births_df.LONGITUDE, births_df.LATITUDE), \n",
    "    crs=\"EPSG:4326\")"
   ]
  },
  {
   "cell_type": "markdown",
   "metadata": {},
   "source": [
    "### Detroit - City Wide"
   ]
  },
  {
   "cell_type": "code",
   "execution_count": 57,
   "metadata": {},
   "outputs": [
    {
     "data": {
      "text/html": [
       "<div>\n",
       "<style scoped>\n",
       "    .dataframe tbody tr th:only-of-type {\n",
       "        vertical-align: middle;\n",
       "    }\n",
       "\n",
       "    .dataframe tbody tr th {\n",
       "        vertical-align: top;\n",
       "    }\n",
       "\n",
       "    .dataframe thead th {\n",
       "        text-align: right;\n",
       "    }\n",
       "</style>\n",
       "<table border=\"1\" class=\"dataframe\">\n",
       "  <thead>\n",
       "    <tr style=\"text-align: right;\">\n",
       "      <th></th>\n",
       "      <th>name</th>\n",
       "      <th>total_births</th>\n",
       "      <th>kessner_1_count</th>\n",
       "      <th>percentage_adequate</th>\n",
       "    </tr>\n",
       "  </thead>\n",
       "  <tbody>\n",
       "    <tr>\n",
       "      <th>0</th>\n",
       "      <td>Detroit</td>\n",
       "      <td>7426</td>\n",
       "      <td>4594</td>\n",
       "      <td>61.863722</td>\n",
       "    </tr>\n",
       "  </tbody>\n",
       "</table>\n",
       "</div>"
      ],
      "text/plain": [
       "      name  total_births  kessner_1_count  percentage_adequate\n",
       "0  Detroit          7426             4594            61.863722"
      ]
     },
     "metadata": {},
     "output_type": "display_data"
    }
   ],
   "source": [
    "# Ensure both GeoDataFrames have the same CRS\n",
    "births_gdf = births_gdf.to_crs(detroit_shp.crs)\n",
    "\n",
    "# Perform a spatial join to assign births to geographic areas\n",
    "births_with_geography = gpd.sjoin(births_gdf, detroit_shp, how=\"left\", predicate=\"within\")\n",
    "\n",
    "#No of rows in the data\n",
    "total_births = births_with_geography.groupby(\"name\")[\"KESSNER\"].count().reset_index()\n",
    "total_births.columns = [\"name\", \"total_births\"]\n",
    "\n",
    "# Filter for births where kesser == 1\n",
    "births_kesser_1 = births_with_geography[births_with_geography[\"KESSNER\"] == 1]\n",
    "\n",
    "# Aggregate count of kesser = 1 by geographic area (e.g., 'zone' column from shapefile)\n",
    "adequate_care_counts = births_kesser_1.groupby(\"name\")[\"KESSNER\"].count().reset_index()\n",
    "adequate_care_counts.columns = [\"name\", \"kessner_1_count\"]\n",
    "\n",
    "births_summary = total_births.merge(adequate_care_counts, on=\"name\", how=\"left\")\n",
    "births_summary[\"percentage_adequate\"] = (births_summary[\"kessner_1_count\"] / births_summary[\"total_births\"]) * 100\n",
    "\n",
    "display(births_summary)"
   ]
  },
  {
   "cell_type": "markdown",
   "metadata": {},
   "source": [
    "### NVI Zones"
   ]
  },
  {
   "cell_type": "code",
   "execution_count": 59,
   "metadata": {},
   "outputs": [
    {
     "name": "stdout",
     "output_type": "stream",
     "text": [
      "    FID_1  DistrictNu ZoneName    Shape__Are     Shape__Len    Shape__A_1  \\\n",
      "0       1           1       1c  1.801933e+08   57935.111599  1.801933e+08   \n",
      "1       2           2       2a  1.657429e+08   54206.458633  1.657429e+08   \n",
      "2       3           4       4a  1.841099e+08   63897.869454  1.841099e+08   \n",
      "3       4           6       6a  1.852068e+08   73149.796786  1.852068e+08   \n",
      "4       5           3       3a  2.069255e+08   73930.680151  2.069255e+08   \n",
      "5       6           7       7c  2.133807e+08   81969.825000  2.133807e+08   \n",
      "6       8           1       1a  1.892972e+08   59301.844849  1.892972e+08   \n",
      "7       9           7       7a  2.026535e+08   64998.755711  2.026535e+08   \n",
      "8      10           7       7b  1.236859e+08   50867.332052  1.236859e+08   \n",
      "9      11           2       2c  1.484800e+08   69074.497143  1.484800e+08   \n",
      "10     12           2       2b  1.616082e+08   51595.955522  1.616082e+08   \n",
      "11     13           3       3c  1.933867e+08   80498.754084  1.933867e+08   \n",
      "12     14           3       3b  1.630627e+08   60797.960439  1.630627e+08   \n",
      "13     15           4       4b  1.951241e+08   72652.115270  1.951241e+08   \n",
      "14     16           4       4c  1.026415e+08   41237.164863  1.026415e+08   \n",
      "15     17           5       5a  1.852553e+08   74703.240024  1.852553e+08   \n",
      "16     18           5       5c  1.324414e+08   56134.856084  1.324414e+08   \n",
      "17     19           6       6b  1.622915e+08   60199.581651  1.622915e+08   \n",
      "18     20           6       6d  1.493581e+08   83671.358864  1.493581e+08   \n",
      "19     21           6       6c  1.272402e+08   57020.923280  1.272402e+08   \n",
      "20     22           1       1b  1.538945e+08   55427.532354  1.538945e+08   \n",
      "21     24           5       5b  1.563373e+08  100363.696930  1.176600e+08   \n",
      "\n",
      "      Shape__L_1                                           geometry  \\\n",
      "0   57935.111599  POLYGON ((13428681.88123 322686.24869, 1342857...   \n",
      "1   54206.458633  POLYGON ((13449005.25951 336476.18439, 1344238...   \n",
      "2   63897.869454  POLYGON ((13505393.63845 344245.58662, 1350579...   \n",
      "3   73149.796786  POLYGON ((13465676.36253 306710.23458, 1346503...   \n",
      "4   73930.680151  POLYGON ((13485958.54724 337997.37467, 1348200...   \n",
      "5   81969.825000  POLYGON ((13443555.12303 312446.23721, 1344309...   \n",
      "6   59301.844849  POLYGON ((13433283.0502 335765.50197, 13414981...   \n",
      "7   64998.755711  POLYGON ((13434049.67815 322382.09941, 1343452...   \n",
      "8   50867.332052  POLYGON ((13443555.12303 312446.2372, 13442905...   \n",
      "9   69074.497143  POLYGON ((13442382.55478 336245.42423, 1345945...   \n",
      "10  51595.955522  POLYGON ((13449005.25951 336476.18439, 1344862...   \n",
      "11  80498.754084  POLYGON ((13488764.38025 338098.38846, 1348865...   \n",
      "12  60797.960439  POLYGON ((13485958.54724 337997.37467, 1348551...   \n",
      "13  72652.115270  POLYGON ((13506962.77264 326653.47409, 1350694...   \n",
      "14  41237.164863  POLYGON ((13503234.3586 332851.40256, 13505904...   \n",
      "15  74703.240024  POLYGON ((13469871.28397 319695.79488, 1347217...   \n",
      "16  56134.856084  POLYGON ((13496072.66357 313678.16644, 1349263...   \n",
      "17  60199.581651  POLYGON ((13471425.58891 298449.771, 13471543....   \n",
      "18  83671.358864  POLYGON ((13453989.19619 291593.26017, 1345453...   \n",
      "19  57020.923280  POLYGON ((13453215.80676 301047.71785, 1345609...   \n",
      "20  55427.532354  POLYGON ((13428681.88123 322686.24869, 1342867...   \n",
      "21  56344.907610  POLYGON ((13473666.22853 326961.17545, 1347410...   \n",
      "\n",
      "    index_right OCCST  ...  SMOKEDPREG  SMOK3MOPP  SMOK1STTRIM  SMOK2NDTRIM  \\\n",
      "0           NaN   NaN  ...         NaN        NaN          NaN          NaN   \n",
      "1           NaN   NaN  ...         NaN        NaN          NaN          NaN   \n",
      "2           NaN   NaN  ...         NaN        NaN          NaN          NaN   \n",
      "3           NaN   NaN  ...         NaN        NaN          NaN          NaN   \n",
      "4           NaN   NaN  ...         NaN        NaN          NaN          NaN   \n",
      "5           NaN   NaN  ...         NaN        NaN          NaN          NaN   \n",
      "6           NaN   NaN  ...         NaN        NaN          NaN          NaN   \n",
      "7           NaN   NaN  ...         NaN        NaN          NaN          NaN   \n",
      "8           NaN   NaN  ...         NaN        NaN          NaN          NaN   \n",
      "9           NaN   NaN  ...         NaN        NaN          NaN          NaN   \n",
      "10          NaN   NaN  ...         NaN        NaN          NaN          NaN   \n",
      "11          NaN   NaN  ...         NaN        NaN          NaN          NaN   \n",
      "12          NaN   NaN  ...         NaN        NaN          NaN          NaN   \n",
      "13          NaN   NaN  ...         NaN        NaN          NaN          NaN   \n",
      "14          NaN   NaN  ...         NaN        NaN          NaN          NaN   \n",
      "15          NaN   NaN  ...         NaN        NaN          NaN          NaN   \n",
      "16          NaN   NaN  ...         NaN        NaN          NaN          NaN   \n",
      "17          NaN   NaN  ...         NaN        NaN          NaN          NaN   \n",
      "18          NaN   NaN  ...         NaN        NaN          NaN          NaN   \n",
      "19          NaN   NaN  ...         NaN        NaN          NaN          NaN   \n",
      "20          NaN   NaN  ...         NaN        NaN          NaN          NaN   \n",
      "21          NaN   NaN  ...         NaN        NaN          NaN          NaN   \n",
      "\n",
      "    SMOK3RDTRIM  BMI  KESSNER  KOTELCHUCK  LATITUDE  LONGITUDE  \n",
      "0           NaN  NaN      NaN         NaN       NaN        NaN  \n",
      "1           NaN  NaN      NaN         NaN       NaN        NaN  \n",
      "2           NaN  NaN      NaN         NaN       NaN        NaN  \n",
      "3           NaN  NaN      NaN         NaN       NaN        NaN  \n",
      "4           NaN  NaN      NaN         NaN       NaN        NaN  \n",
      "5           NaN  NaN      NaN         NaN       NaN        NaN  \n",
      "6           NaN  NaN      NaN         NaN       NaN        NaN  \n",
      "7           NaN  NaN      NaN         NaN       NaN        NaN  \n",
      "8           NaN  NaN      NaN         NaN       NaN        NaN  \n",
      "9           NaN  NaN      NaN         NaN       NaN        NaN  \n",
      "10          NaN  NaN      NaN         NaN       NaN        NaN  \n",
      "11          NaN  NaN      NaN         NaN       NaN        NaN  \n",
      "12          NaN  NaN      NaN         NaN       NaN        NaN  \n",
      "13          NaN  NaN      NaN         NaN       NaN        NaN  \n",
      "14          NaN  NaN      NaN         NaN       NaN        NaN  \n",
      "15          NaN  NaN      NaN         NaN       NaN        NaN  \n",
      "16          NaN  NaN      NaN         NaN       NaN        NaN  \n",
      "17          NaN  NaN      NaN         NaN       NaN        NaN  \n",
      "18          NaN  NaN      NaN         NaN       NaN        NaN  \n",
      "19          NaN  NaN      NaN         NaN       NaN        NaN  \n",
      "20          NaN  NaN      NaN         NaN       NaN        NaN  \n",
      "21          NaN  NaN      NaN         NaN       NaN        NaN  \n",
      "\n",
      "[22 rows x 71 columns]\n"
     ]
    },
    {
     "data": {
      "text/html": [
       "<div>\n",
       "<style scoped>\n",
       "    .dataframe tbody tr th:only-of-type {\n",
       "        vertical-align: middle;\n",
       "    }\n",
       "\n",
       "    .dataframe tbody tr th {\n",
       "        vertical-align: top;\n",
       "    }\n",
       "\n",
       "    .dataframe thead th {\n",
       "        text-align: right;\n",
       "    }\n",
       "</style>\n",
       "<table border=\"1\" class=\"dataframe\">\n",
       "  <thead>\n",
       "    <tr style=\"text-align: right;\">\n",
       "      <th></th>\n",
       "      <th>DistrictNu</th>\n",
       "      <th>total_births</th>\n",
       "      <th>kessner_1_count</th>\n",
       "      <th>percentage_adequate</th>\n",
       "    </tr>\n",
       "  </thead>\n",
       "  <tbody>\n",
       "    <tr>\n",
       "      <th>0</th>\n",
       "      <td>1</td>\n",
       "      <td>0</td>\n",
       "      <td>NaN</td>\n",
       "      <td>NaN</td>\n",
       "    </tr>\n",
       "    <tr>\n",
       "      <th>1</th>\n",
       "      <td>2</td>\n",
       "      <td>0</td>\n",
       "      <td>NaN</td>\n",
       "      <td>NaN</td>\n",
       "    </tr>\n",
       "    <tr>\n",
       "      <th>2</th>\n",
       "      <td>3</td>\n",
       "      <td>0</td>\n",
       "      <td>NaN</td>\n",
       "      <td>NaN</td>\n",
       "    </tr>\n",
       "    <tr>\n",
       "      <th>3</th>\n",
       "      <td>4</td>\n",
       "      <td>0</td>\n",
       "      <td>NaN</td>\n",
       "      <td>NaN</td>\n",
       "    </tr>\n",
       "    <tr>\n",
       "      <th>4</th>\n",
       "      <td>5</td>\n",
       "      <td>0</td>\n",
       "      <td>NaN</td>\n",
       "      <td>NaN</td>\n",
       "    </tr>\n",
       "    <tr>\n",
       "      <th>5</th>\n",
       "      <td>6</td>\n",
       "      <td>0</td>\n",
       "      <td>NaN</td>\n",
       "      <td>NaN</td>\n",
       "    </tr>\n",
       "    <tr>\n",
       "      <th>6</th>\n",
       "      <td>7</td>\n",
       "      <td>0</td>\n",
       "      <td>NaN</td>\n",
       "      <td>NaN</td>\n",
       "    </tr>\n",
       "  </tbody>\n",
       "</table>\n",
       "</div>"
      ],
      "text/plain": [
       "   DistrictNu  total_births  kessner_1_count  percentage_adequate\n",
       "0           1             0              NaN                  NaN\n",
       "1           2             0              NaN                  NaN\n",
       "2           3             0              NaN                  NaN\n",
       "3           4             0              NaN                  NaN\n",
       "4           5             0              NaN                  NaN\n",
       "5           6             0              NaN                  NaN\n",
       "6           7             0              NaN                  NaN"
      ]
     },
     "metadata": {},
     "output_type": "display_data"
    }
   ],
   "source": [
    "# Ensure both GeoDataFrames have the same CRS\n",
    "births_gdf = births_gdf.to_crs(nvi_shp.crs)\n",
    "\n",
    "# Spatial join: Assign each point to a polygon\n",
    "merged_gdf = gpd.sjoin(nvi_shp, births_gdf, how=\"left\", predicate=\"intersects\")\n",
    "print(merged_gdf)\n",
    "\n",
    "#No of rows in the data\n",
    "total_births_nvi = merged_gdf.groupby(\"DistrictNu\")[\"KESSNER\"].count().reset_index()\n",
    "total_births_nvi.columns = [\"DistrictNu\", \"total_births\"]\n",
    "\n",
    "# Filter for births where kesser == 1\n",
    "births_kesser_1_nvi = merged_gdf[merged_gdf[\"KESSNER\"] == 1]\n",
    "\n",
    "# Aggregate count of kesser = 1 by geographic area (e.g., 'zone' column from shapefile)\n",
    "adequate_care_counts = births_kesser_1_nvi.groupby(\"DistrictNu\")[\"KESSNER\"].count().reset_index()\n",
    "adequate_care_counts.columns = [\"DistrictNu\", \"kessner_1_count\"]\n",
    "\n",
    "births_summary_nvi = total_births_nvi.merge(adequate_care_counts, on=\"DistrictNu\", how=\"left\")\n",
    "births_summary_nvi[\"percentage_adequate\"] = (births_summary_nvi[\"kessner_1_count\"] / births_summary_nvi[\"total_births\"]) * 100\n",
    "\n",
    "display(births_summary_nvi)"
   ]
  },
  {
   "cell_type": "code",
   "execution_count": 61,
   "metadata": {},
   "outputs": [
    {
     "name": "stdout",
     "output_type": "stream",
     "text": [
      "Points intersecting with polygons: 0 out of 99179\n"
     ]
    }
   ],
   "source": [
    "point_in_poly_count = sum(1 for point in births_gdf.geometry for poly in nvi_shp.geometry if point.intersects(poly))\n",
    "print(f\"Points intersecting with polygons: {point_in_poly_count} out of {len(births_gdf)}\")"
   ]
  }
 ],
 "metadata": {
  "kernelspec": {
   "display_name": "Python 3",
   "language": "python",
   "name": "python3"
  },
  "language_info": {
   "codemirror_mode": {
    "name": "ipython",
    "version": 3
   },
   "file_extension": ".py",
   "mimetype": "text/x-python",
   "name": "python",
   "nbconvert_exporter": "python",
   "pygments_lexer": "ipython3",
   "version": "3.11.9"
  }
 },
 "nbformat": 4,
 "nbformat_minor": 2
}
