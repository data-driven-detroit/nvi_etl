{
 "cells": [
  {
   "cell_type": "code",
   "execution_count": 11,
   "id": "ea42ee4e",
   "metadata": {},
   "outputs": [],
   "source": [
    "from pathlib import Path\n",
    "import pandas as pd\n",
    "from nvi_survey import create_nvi_survey\n",
    "from nvi_etl.utilities import estimate_median_from_distribution"
   ]
  },
  {
   "cell_type": "code",
   "execution_count": 12,
   "id": "35b012d8",
   "metadata": {},
   "outputs": [],
   "source": [
    "filepath = (\n",
    "    Path.cwd() /\n",
    "    \"output\" /\n",
    "    \"nvi_2024_analysis_source_2026_2026_20250604.csv\"\n",
    ")\n",
    "nvi = create_nvi_survey(filepath)"
   ]
  },
  {
   "cell_type": "code",
   "execution_count": 13,
   "id": "8642ca71",
   "metadata": {},
   "outputs": [
    {
     "data": {
      "text/html": [
       "<div>\n",
       "<style scoped>\n",
       "    .dataframe tbody tr th:only-of-type {\n",
       "        vertical-align: middle;\n",
       "    }\n",
       "\n",
       "    .dataframe tbody tr th {\n",
       "        vertical-align: top;\n",
       "    }\n",
       "\n",
       "    .dataframe thead th {\n",
       "        text-align: right;\n",
       "    }\n",
       "</style>\n",
       "<table border=\"1\" class=\"dataframe\">\n",
       "  <thead>\n",
       "    <tr style=\"text-align: right;\">\n",
       "      <th>Age</th>\n",
       "      <th>18-24 years old</th>\n",
       "      <th>25-34 years old</th>\n",
       "      <th>35-44 years old</th>\n",
       "      <th>45-54 years old</th>\n",
       "      <th>55-64 years old</th>\n",
       "      <th>65 years or older</th>\n",
       "      <th>Prefer not to answer</th>\n",
       "      <th>Total Responses</th>\n",
       "    </tr>\n",
       "    <tr>\n",
       "      <th>citywide</th>\n",
       "      <th></th>\n",
       "      <th></th>\n",
       "      <th></th>\n",
       "      <th></th>\n",
       "      <th></th>\n",
       "      <th></th>\n",
       "      <th></th>\n",
       "      <th></th>\n",
       "    </tr>\n",
       "  </thead>\n",
       "  <tbody>\n",
       "    <tr>\n",
       "      <th>Detroit Overall</th>\n",
       "      <td>185</td>\n",
       "      <td>679</td>\n",
       "      <td>702</td>\n",
       "      <td>659</td>\n",
       "      <td>717</td>\n",
       "      <td>969</td>\n",
       "      <td>123</td>\n",
       "      <td>4034</td>\n",
       "    </tr>\n",
       "  </tbody>\n",
       "</table>\n",
       "</div>"
      ],
      "text/plain": [
       "Age              18-24 years old  25-34 years old  35-44 years old  \\\n",
       "citywide                                                             \n",
       "Detroit Overall              185              679              702   \n",
       "\n",
       "Age              45-54 years old  55-64 years old  65 years or older  \\\n",
       "citywide                                                               \n",
       "Detroit Overall              659              717                969   \n",
       "\n",
       "Age              Prefer not to answer  Total Responses  \n",
       "citywide                                                \n",
       "Detroit Overall                   123             4034  "
      ]
     },
     "execution_count": 13,
     "metadata": {},
     "output_type": "execute_result"
    }
   ],
   "source": [
    "nvi.tabulate_question(\"Age\", \"Age\", \"citywide\")"
   ]
  },
  {
   "cell_type": "code",
   "execution_count": 15,
   "id": "9634ad27",
   "metadata": {},
   "outputs": [
    {
     "data": {
      "text/plain": [
       "50.319423368740516"
      ]
     },
     "execution_count": 15,
     "metadata": {},
     "output_type": "execute_result"
    }
   ],
   "source": [
    "estimate_median_from_distribution([\n",
    "    ((18, 24), 185),\n",
    "    ((25, 34), 679),\n",
    "    ((35, 44), 702),\n",
    "    ((45, 54), 659),\n",
    "    ((55, 64), 717),\n",
    "    ((65, 10000), 969),\n",
    "])"
   ]
  },
  {
   "cell_type": "code",
   "execution_count": 21,
   "id": "4de82d18",
   "metadata": {},
   "outputs": [
    {
     "name": "stdout",
     "output_type": "stream",
     "text": [
      "Annual_Household_Income_From_Own_Business\n",
      "Household_Annual_Income_Before_Taxes\n"
     ]
    }
   ],
   "source": [
    "for q in nvi.answer_key[\"question\"].drop_duplicates():\n",
    "    if 'income' in q.lower():\n",
    "        print(q)"
   ]
  },
  {
   "cell_type": "code",
   "execution_count": 22,
   "id": "9c87879f",
   "metadata": {},
   "outputs": [
    {
     "data": {
      "text/html": [
       "<div>\n",
       "<style scoped>\n",
       "    .dataframe tbody tr th:only-of-type {\n",
       "        vertical-align: middle;\n",
       "    }\n",
       "\n",
       "    .dataframe tbody tr th {\n",
       "        vertical-align: top;\n",
       "    }\n",
       "\n",
       "    .dataframe thead th {\n",
       "        text-align: right;\n",
       "    }\n",
       "</style>\n",
       "<table border=\"1\" class=\"dataframe\">\n",
       "  <thead>\n",
       "    <tr style=\"text-align: right;\">\n",
       "      <th>Household_Annual_Income_Before_Taxes</th>\n",
       "      <th>Less than $10,000</th>\n",
       "      <th>$10,000 to $14,999</th>\n",
       "      <th>$15,000 to $19,999</th>\n",
       "      <th>$20,000 to $24,999</th>\n",
       "      <th>$25,000 to $29,999</th>\n",
       "      <th>$30,000 to $34,999</th>\n",
       "      <th>$35,000 to $39,999</th>\n",
       "      <th>$40,000 to $44,999</th>\n",
       "      <th>$45,000 to $49,999</th>\n",
       "      <th>$50,000 to $59,999</th>\n",
       "      <th>$60,000 to $74,999</th>\n",
       "      <th>$75,000 to $99,999</th>\n",
       "      <th>$100,000 to $124,999</th>\n",
       "      <th>$125,000 or more</th>\n",
       "      <th>Don't know/Unsure</th>\n",
       "      <th>Prefer not to answer</th>\n",
       "      <th>Total Responses</th>\n",
       "    </tr>\n",
       "    <tr>\n",
       "      <th>citywide</th>\n",
       "      <th></th>\n",
       "      <th></th>\n",
       "      <th></th>\n",
       "      <th></th>\n",
       "      <th></th>\n",
       "      <th></th>\n",
       "      <th></th>\n",
       "      <th></th>\n",
       "      <th></th>\n",
       "      <th></th>\n",
       "      <th></th>\n",
       "      <th></th>\n",
       "      <th></th>\n",
       "      <th></th>\n",
       "      <th></th>\n",
       "      <th></th>\n",
       "      <th></th>\n",
       "    </tr>\n",
       "  </thead>\n",
       "  <tbody>\n",
       "    <tr>\n",
       "      <th>Detroit Overall</th>\n",
       "      <td>586</td>\n",
       "      <td>279</td>\n",
       "      <td>179</td>\n",
       "      <td>179</td>\n",
       "      <td>145</td>\n",
       "      <td>123</td>\n",
       "      <td>355</td>\n",
       "      <td>234</td>\n",
       "      <td>164</td>\n",
       "      <td>237</td>\n",
       "      <td>285</td>\n",
       "      <td>242</td>\n",
       "      <td>191</td>\n",
       "      <td>281</td>\n",
       "      <td>67</td>\n",
       "      <td>455</td>\n",
       "      <td>4002</td>\n",
       "    </tr>\n",
       "  </tbody>\n",
       "</table>\n",
       "</div>"
      ],
      "text/plain": [
       "Household_Annual_Income_Before_Taxes  Less than $10,000  $10,000 to $14,999  \\\n",
       "citywide                                                                      \n",
       "Detroit Overall                                     586                 279   \n",
       "\n",
       "Household_Annual_Income_Before_Taxes  $15,000 to $19,999  $20,000 to $24,999  \\\n",
       "citywide                                                                       \n",
       "Detroit Overall                                      179                 179   \n",
       "\n",
       "Household_Annual_Income_Before_Taxes  $25,000 to $29,999  $30,000 to $34,999  \\\n",
       "citywide                                                                       \n",
       "Detroit Overall                                      145                 123   \n",
       "\n",
       "Household_Annual_Income_Before_Taxes  $35,000 to $39,999  $40,000 to $44,999  \\\n",
       "citywide                                                                       \n",
       "Detroit Overall                                      355                 234   \n",
       "\n",
       "Household_Annual_Income_Before_Taxes  $45,000 to $49,999  $50,000 to $59,999  \\\n",
       "citywide                                                                       \n",
       "Detroit Overall                                      164                 237   \n",
       "\n",
       "Household_Annual_Income_Before_Taxes  $60,000 to $74,999  $75,000 to $99,999  \\\n",
       "citywide                                                                       \n",
       "Detroit Overall                                      285                 242   \n",
       "\n",
       "Household_Annual_Income_Before_Taxes  $100,000 to $124,999  $125,000 or more  \\\n",
       "citywide                                                                       \n",
       "Detroit Overall                                        191               281   \n",
       "\n",
       "Household_Annual_Income_Before_Taxes  Don't know/Unsure  Prefer not to answer  \\\n",
       "citywide                                                                        \n",
       "Detroit Overall                                      67                   455   \n",
       "\n",
       "Household_Annual_Income_Before_Taxes  Total Responses  \n",
       "citywide                                               \n",
       "Detroit Overall                                  4002  "
      ]
     },
     "execution_count": 22,
     "metadata": {},
     "output_type": "execute_result"
    }
   ],
   "source": [
    "nvi.tabulate_question(\"Household_Annual_Income_Before_Taxes\", \"Household_Annual_Income_Before_Taxes\", \"citywide\")"
   ]
  },
  {
   "cell_type": "code",
   "execution_count": null,
   "id": "0c9a1040",
   "metadata": {},
   "outputs": [],
   "source": [
    "estimate_median_from_distribution([\n",
    "    ((0, 14999), 586),\n",
    "    (( 10_000,  14_999), 279),\n",
    "    (( 15_000,  19_999), 279),\n",
    "    (( 20_000,  24_999), 279),\n",
    "    (( 25_000,  29_999), 279),\n",
    "    (( 30_000,  34_999), 279),\n",
    "    (( 35_000,  39_999), 279),\n",
    "    (( 40_000,  44_999), 279),\n",
    "    (( 45_000,  49_999), 279),\n",
    "    (( 50_000,  54_999), 279),\n",
    "    (( 60_000,  59_999), 279),\n",
    "    (( 75_000,  99_999), 279),\n",
    "    ((100_000, 124_999), 279),\n",
    "    ((125_000, 10000000), 279),\n",
    "])"
   ]
  }
 ],
 "metadata": {
  "kernelspec": {
   "display_name": "env",
   "language": "python",
   "name": "python3"
  },
  "language_info": {
   "codemirror_mode": {
    "name": "ipython",
    "version": 3
   },
   "file_extension": ".py",
   "mimetype": "text/x-python",
   "name": "python",
   "nbconvert_exporter": "python",
   "pygments_lexer": "ipython3",
   "version": "3.12.9"
  }
 },
 "nbformat": 4,
 "nbformat_minor": 5
}
