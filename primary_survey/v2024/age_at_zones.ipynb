{
 "cells": [
  {
   "cell_type": "code",
   "execution_count": 1,
   "id": "c4c9757a",
   "metadata": {},
   "outputs": [],
   "source": [
    "from pathlib import Path\n",
    "import pandas as pd\n",
    "from nvi_survey import create_nvi_survey\n",
    "\n",
    "filepath = (\n",
    "    Path.cwd() /\n",
    "    \"output\" /\n",
    "    \"nvi_2024_analysis_source_2014_2022_20250624.csv\"\n",
    ")\n",
    "nvi = create_nvi_survey(filepath)"
   ]
  },
  {
   "cell_type": "code",
   "execution_count": 2,
   "id": "4668c5cd",
   "metadata": {},
   "outputs": [
    {
     "name": "stdout",
     "output_type": "stream",
     "text": [
      "GR missing\n",
      "GR missing\n",
      "GR missing\n"
     ]
    }
   ],
   "source": [
    "from rollups import generate_digital_equity_report\n",
    "\n",
    "generate_digital_equity_report(filepath)\n"
   ]
  },
  {
   "cell_type": "code",
   "execution_count": null,
   "id": "24aec8aa",
   "metadata": {},
   "outputs": [],
   "source": [
    "# None, I do not need any assistance because I do not want to use the internet\n"
   ]
  }
 ],
 "metadata": {
  "kernelspec": {
   "display_name": "env",
   "language": "python",
   "name": "python3"
  },
  "language_info": {
   "codemirror_mode": {
    "name": "ipython",
    "version": 3
   },
   "file_extension": ".py",
   "mimetype": "text/x-python",
   "name": "python",
   "nbconvert_exporter": "python",
   "pygments_lexer": "ipython3",
   "version": "3.12.10"
  }
 },
 "nbformat": 4,
 "nbformat_minor": 5
}
