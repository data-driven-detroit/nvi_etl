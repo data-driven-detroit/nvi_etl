{
 "cells": [
  {
   "cell_type": "code",
   "execution_count": 1,
   "id": "c4c9757a",
   "metadata": {},
   "outputs": [],
   "source": [
    "from pathlib import Path\n",
    "import pandas as pd\n",
    "from nvi_survey import create_nvi_survey\n",
    "\n",
    "filepath = (\n",
    "    Path.cwd() /\n",
    "    \"output\" /\n",
    "    \"nvi_2024_analysis_source_2014_2022_20250624.csv\"\n",
    ")\n",
    "nvi = create_nvi_survey(filepath)"
   ]
  },
  {
   "cell_type": "code",
   "execution_count": null,
   "id": "97ce3f3a",
   "metadata": {},
   "outputs": [
    {
     "name": "stderr",
     "output_type": "stream",
     "text": [
      "C:\\Users\\mike\\AppData\\Local\\Temp\\ipykernel_4132\\3353823104.py:2: FutureWarning: Downcasting object dtype arrays on .fillna, .ffill, .bfill is deprecated and will change in a future version. Call result.infer_objects(copy=False) instead. To opt-in to the future behavior, set `pd.set_option('future.no_silent_downcasting', True)`\n",
      "  nvi.answer_key[\"question_text\"].str.contains(\"Resources\").fillna(False)\n"
     ]
    },
    {
     "data": {
      "text/html": [
       "<div>\n",
       "<style scoped>\n",
       "    .dataframe tbody tr th:only-of-type {\n",
       "        vertical-align: middle;\n",
       "    }\n",
       "\n",
       "    .dataframe tbody tr th {\n",
       "        vertical-align: top;\n",
       "    }\n",
       "\n",
       "    .dataframe thead th {\n",
       "        text-align: right;\n",
       "    }\n",
       "</style>\n",
       "<table border=\"1\" class=\"dataframe\">\n",
       "  <thead>\n",
       "    <tr style=\"text-align: right;\">\n",
       "      <th></th>\n",
       "      <th>indicator_db_id</th>\n",
       "      <th>indicator_id</th>\n",
       "      <th>indicator_include</th>\n",
       "      <th>group</th>\n",
       "      <th>question</th>\n",
       "      <th>question_text</th>\n",
       "      <th>answer</th>\n",
       "      <th>survey_code</th>\n",
       "      <th>db_question_code</th>\n",
       "      <th>db_answer_code</th>\n",
       "      <th>tabulate</th>\n",
       "      <th>suppress_value</th>\n",
       "      <th>full_column</th>\n",
       "      <th>response_type</th>\n",
       "      <th>universe_query</th>\n",
       "      <th>site_category</th>\n",
       "      <th>included_in_arpa</th>\n",
       "      <th>and_or</th>\n",
       "      <th>start_date</th>\n",
       "      <th>end_date</th>\n",
       "    </tr>\n",
       "  </thead>\n",
       "  <tbody>\n",
       "  </tbody>\n",
       "</table>\n",
       "</div>"
      ],
      "text/plain": [
       "Empty DataFrame\n",
       "Columns: [indicator_db_id, indicator_id, indicator_include, group, question, question_text, answer, survey_code, db_question_code, db_answer_code, tabulate, suppress_value, full_column, response_type, universe_query, site_category, included_in_arpa, and_or, start_date, end_date]\n",
       "Index: []"
      ]
     },
     "execution_count": 4,
     "metadata": {},
     "output_type": "execute_result"
    }
   ],
   "source": [
    "nvi.answer_key[\n",
    "    nvi.answer_key[\"question_text\"].str.contains(\"resources\").fillna(False)\n",
    "]"
   ]
  },
  {
   "cell_type": "code",
   "execution_count": null,
   "id": "24aec8aa",
   "metadata": {},
   "outputs": [],
   "source": [
    "# Convert question about resources needed to percentages\n",
    "\n",
    "nvi.tabulate_question()"
   ]
  },
  {
   "cell_type": "code",
   "execution_count": 5,
   "id": "4a1c1f64",
   "metadata": {},
   "outputs": [
    {
     "data": {
      "text/html": [
       "<div>\n",
       "<style scoped>\n",
       "    .dataframe tbody tr th:only-of-type {\n",
       "        vertical-align: middle;\n",
       "    }\n",
       "\n",
       "    .dataframe tbody tr th {\n",
       "        vertical-align: top;\n",
       "    }\n",
       "\n",
       "    .dataframe thead th {\n",
       "        text-align: right;\n",
       "    }\n",
       "</style>\n",
       "<table border=\"1\" class=\"dataframe\">\n",
       "  <thead>\n",
       "    <tr style=\"text-align: right;\">\n",
       "      <th>At_Risk_Losing_Home:Needs_In_Past_12_Months</th>\n",
       "      <th>Yes</th>\n",
       "      <th>No</th>\n",
       "      <th>Don't Know</th>\n",
       "      <th>Total Responses</th>\n",
       "    </tr>\n",
       "    <tr>\n",
       "      <th>district</th>\n",
       "      <th></th>\n",
       "      <th></th>\n",
       "      <th></th>\n",
       "      <th></th>\n",
       "    </tr>\n",
       "  </thead>\n",
       "  <tbody>\n",
       "    <tr>\n",
       "      <th>Council District 1</th>\n",
       "      <td>222</td>\n",
       "      <td>409</td>\n",
       "      <td>18</td>\n",
       "      <td>649</td>\n",
       "    </tr>\n",
       "    <tr>\n",
       "      <th>Council District 2</th>\n",
       "      <td>223</td>\n",
       "      <td>394</td>\n",
       "      <td>20</td>\n",
       "      <td>637</td>\n",
       "    </tr>\n",
       "    <tr>\n",
       "      <th>Council District 3</th>\n",
       "      <td>146</td>\n",
       "      <td>216</td>\n",
       "      <td>14</td>\n",
       "      <td>376</td>\n",
       "    </tr>\n",
       "    <tr>\n",
       "      <th>Council District 4</th>\n",
       "      <td>205</td>\n",
       "      <td>323</td>\n",
       "      <td>15</td>\n",
       "      <td>543</td>\n",
       "    </tr>\n",
       "    <tr>\n",
       "      <th>Council District 5</th>\n",
       "      <td>228</td>\n",
       "      <td>479</td>\n",
       "      <td>32</td>\n",
       "      <td>739</td>\n",
       "    </tr>\n",
       "    <tr>\n",
       "      <th>Council District 6</th>\n",
       "      <td>134</td>\n",
       "      <td>395</td>\n",
       "      <td>31</td>\n",
       "      <td>560</td>\n",
       "    </tr>\n",
       "    <tr>\n",
       "      <th>Council District 7</th>\n",
       "      <td>204</td>\n",
       "      <td>315</td>\n",
       "      <td>21</td>\n",
       "      <td>540</td>\n",
       "    </tr>\n",
       "  </tbody>\n",
       "</table>\n",
       "</div>"
      ],
      "text/plain": [
       "At_Risk_Losing_Home:Needs_In_Past_12_Months  Yes   No  Don't Know  \\\n",
       "district                                                            \n",
       "Council District 1                           222  409          18   \n",
       "Council District 2                           223  394          20   \n",
       "Council District 3                           146  216          14   \n",
       "Council District 4                           205  323          15   \n",
       "Council District 5                           228  479          32   \n",
       "Council District 6                           134  395          31   \n",
       "Council District 7                           204  315          21   \n",
       "\n",
       "At_Risk_Losing_Home:Needs_In_Past_12_Months  Total Responses  \n",
       "district                                                      \n",
       "Council District 1                                       649  \n",
       "Council District 2                                       637  \n",
       "Council District 3                                       376  \n",
       "Council District 4                                       543  \n",
       "Council District 5                                       739  \n",
       "Council District 6                                       560  \n",
       "Council District 7                                       540  "
      ]
     },
     "execution_count": 5,
     "metadata": {},
     "output_type": "execute_result"
    }
   ],
   "source": [
    "nvi.tabulate_single_question('district', 'At_Risk_Losing_Home', question_group='Needs_In_Past_12_Months')"
   ]
  },
  {
   "cell_type": "code",
   "execution_count": null,
   "id": "008b7ae3",
   "metadata": {},
   "outputs": [],
   "source": []
  }
 ],
 "metadata": {
  "kernelspec": {
   "display_name": "env",
   "language": "python",
   "name": "python3"
  },
  "language_info": {
   "codemirror_mode": {
    "name": "ipython",
    "version": 3
   },
   "file_extension": ".py",
   "mimetype": "text/x-python",
   "name": "python",
   "nbconvert_exporter": "python",
   "pygments_lexer": "ipython3",
   "version": "3.12.9"
  }
 },
 "nbformat": 4,
 "nbformat_minor": 5
}
