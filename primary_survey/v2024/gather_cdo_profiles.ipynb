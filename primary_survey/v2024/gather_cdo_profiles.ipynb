{
 "cells": [
  {
   "cell_type": "markdown",
   "id": "ee57f182",
   "metadata": {},
   "source": [
    "This notebook can be run after running 'nvi_2024_processor.py' with the cdo_aggregate flag set to 'True.' That will output the expected cdo tall file. In the future we'll incorporate this code more directly into the transform_data function so the CDOs will be aggregated along with everything else."
   ]
  },
  {
   "cell_type": "code",
   "execution_count": null,
   "id": "8df4300f",
   "metadata": {},
   "outputs": [],
   "source": [
    "from pathlib import Path\n",
    "import pandas as pd\n",
    "from sqlalchemy import text\n",
    "from nvi_etl import make_engine_for\n",
    "from nvi_etl.geo_reference import pull_cdo_boundaries\n",
    "\n",
    "cdo_boundaries = pull_cdo_boundaries()\n",
    "db_engine = make_engine_for(\"nvi_test\")\n",
    "\n",
    "indicator = pd.read_sql(\n",
    "    text(\n",
    "        \"\"\"\n",
    "        SELECT *\n",
    "        FROM indicator;\n",
    "        \"\"\"\n",
    "    ), db_engine\n",
    ")\n",
    "\n",
    "survey_question = pd.read_sql(\n",
    "    text(\n",
    "        \"\"\"\n",
    "        SELECT *\n",
    "        FROM survey_question;\n",
    "        \"\"\"\n",
    "    ), db_engine\n",
    ")\n",
    "\n",
    "survey_question_option = pd.read_sql(\n",
    "    text(\n",
    "        \"\"\"\n",
    "        SELECT *\n",
    "        FROM survey_question_option;\n",
    "        \"\"\"\n",
    "    ), db_engine\n",
    ")\n",
    "\n",
    "\n",
    "long = pd.read_csv(Path.cwd() / \"output\" / \"primary_survey_tall_cdo_2024.csv\")\n",
    "cdos = long[~long[\"location_id\"].str.isnumeric()]"
   ]
  },
  {
   "cell_type": "code",
   "execution_count": null,
   "id": "1122c1b0",
   "metadata": {},
   "outputs": [],
   "source": [
    "cdo_groups = (\n",
    "    cdos\n",
    "    .merge(indicator, left_on=\"indicator_id\", right_on=\"id\")\n",
    "    .rename(columns={\"name\": \"Indicator Name\"})\n",
    "    .merge(survey_question, left_on=\"survey_question_id\", right_on=\"id\", how=\"left\")\n",
    "    .merge(survey_question_option, left_on=\"survey_question_option_id\", right_on=\"id\", how=\"left\")\n",
    "    .rename(columns={\n",
    "        \"name\": \"Question Option\",\n",
    "        \"question_text\": \"Question Text\",\n",
    "        \"location_id\": \"CDO Name\",\n",
    "        \"percentage\": \"Percentage\",\n",
    "        \"count\": \"Count\",\n",
    "        \"universe\": \"Total Respondents\",\n",
    "    })[[\n",
    "        \"CDO Name\",\n",
    "        \"Indicator Name\",\n",
    "        \"Question Text\",\n",
    "        \"Question Option\",\n",
    "        \"Percentage\",\n",
    "        \"Count\",\n",
    "        \"Total Respondents\"\n",
    "    ]]\n",
    "    .groupby(\"CDO Name\")\n",
    ")"
   ]
  },
  {
   "cell_type": "code",
   "execution_count": null,
   "id": "1d592a0c",
   "metadata": {},
   "outputs": [],
   "source": [
    "for label, group in cdo_groups:\n",
    "   SAVE_DIR = Path(\"P:\\\\2025_Projects\\\\NVI25\\\\Development\\\\Workspace\\\\CDO Data Cuts\")\n",
    "   cleaned_label = label.replace(\":\", \"\").replace(\"/\", \"-\")\n",
    "\n",
    "   group.to_csv(SAVE_DIR / f\"{cleaned_label} NVI Cut 20251022.csv\")\n"
   ]
  }
 ],
 "metadata": {
  "language_info": {
   "name": "python"
  }
 },
 "nbformat": 4,
 "nbformat_minor": 5
}
