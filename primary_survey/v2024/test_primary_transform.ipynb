{
 "cells": [
  {
   "cell_type": "code",
   "execution_count": 21,
   "id": "3edd49c5",
   "metadata": {},
   "outputs": [],
   "source": [
    "from pathlib import Path\n",
    "import pandas as pd\n",
    "from nvi_survey import create_nvi_survey\n",
    "from rollups import save_excel_sheets\n",
    "\n",
    "filepath = (\n",
    "    Path.cwd() /\n",
    "    \"output\" /\n",
    "    \"nvi_2024_analysis_source_2026_2026_20250514.csv\"\n",
    ")\n",
    "nvi = create_nvi_survey(filepath)"
   ]
  },
  {
   "cell_type": "code",
   "execution_count": null,
   "id": "7f599416",
   "metadata": {},
   "outputs": [],
   "source": [
    "indicator_groups = (\n",
    "    nvi.answer_key[~nvi.answer_key[\"indicator_db_id\"].isna()]\n",
    "    .groupby([\"indicator_db_id\", \"response_type\", \"tabulate\"]) # indicators can only have one response type (possible error though)\n",
    ")\n",
    "\n",
    "tables = []\n",
    "\n",
    "for (indicator, response_type, tabulate), group in indicator_groups:\n",
    "    if not tabulate:\n",
    "        continue\n",
    "\n",
    "    if response_type in {\"SINGLE\", \"GROUPED-SINGLE\"}:\n",
    "        tables.append(\n",
    "            nvi.compile_single_response_indicator(indicator, \"citywide\")\n",
    "            .assign(indicator_db_id=indicator)\n",
    "        )\n",
    "\n",
    "    elif response_type == \"MULTI-SELECT\":\n",
    "        tables.append(\n",
    "            nvi.compile_multi_response_indicator(indicator, \"citywide\")\n",
    "            .assign(indicator_db_id=indicator)\n",
    "        )\n",
    "\n",
    "(\n",
    "    pd.concat(tables, axis=0)\n",
    "    .reset_index()\n",
    "    .assign(indicator_name=lambda df: df[\"indicator_db_id\"]\n",
    "    .map(nvi.indicator_key)).drop([\"citywide\", \"indicator_db_id\"], axis=1)\n",
    ")[\n",
    "    [\"indicator_name\", \"count\", \"universe\", \"percentage\"]\n",
    "].to_excel(\"citywide_indicators_20250515.xlsx\", index=False)"
   ]
  },
  {
   "cell_type": "code",
   "execution_count": 6,
   "id": "a7abde65",
   "metadata": {},
   "outputs": [],
   "source": [
    "indicator_groups = (\n",
    "    nvi.answer_key[~nvi.answer_key[\"indicator_db_id\"].isna()]\n",
    "    .drop_duplicates(subset=[\"indicator_db_id\", \"response_type\"]) # indicators can only have one response type (possible error though)\n",
    ")\n",
    "\n",
    "result = []\n",
    "for _, row in indicator_groups.iterrows():\n",
    "    if not row[\"tabulate\"]:\n",
    "        continue\n",
    "\n",
    "    if row[\"response_type\"] in (\"SINGLE\", \"GROUPED-SINGLE\"):\n",
    "        result.append(\n",
    "            nvi.compile_single_response_indicator(row[\"indicator_db_id\"], \"district\")\n",
    "            .assign(indicator=nvi.indicator_key[row[\"indicator_db_id\"]])\n",
    "        )\n",
    "    else:\n",
    "        result.append(\n",
    "            nvi.compile_multi_response_indicator(row[\"indicator_db_id\"], \"district\")\n",
    "            .assign(indicator=nvi.indicator_key[row[\"indicator_db_id\"]])\n",
    "        )"
   ]
  },
  {
   "cell_type": "code",
   "execution_count": null,
   "id": "4ab4e63a",
   "metadata": {},
   "outputs": [],
   "source": [
    "(\n",
    "    pd.concat(result)[[\"indicator\", \"count\", \"universe\", \"percentage\"]]\n",
    "    .to_excel(\"nvi_survey_indicator_2024_20250515.xlsx\")\n",
    ")"
   ]
  },
  {
   "cell_type": "code",
   "execution_count": 24,
   "id": "658b5b60",
   "metadata": {},
   "outputs": [],
   "source": [
    "resident_opportunity_questions = (\n",
    "    nvi.answer_key[nvi.answer_key[\"site_category\"] == \"Resident Opportunity\"]\n",
    ")[[\"question\", \"group\"]].drop_duplicates()\n",
    "\n",
    "tables = []\n",
    "for _, row in resident_opportunity_questions.iterrows():\n",
    "\n",
    "    tables.append(\n",
    "        (\n",
    "            row[\"question\"],\n",
    "            nvi.tabulate_question(row[\"question\"], row[\"group\"], \"citywide\")\n",
    "        )\n",
    "    )"
   ]
  },
  {
   "cell_type": "code",
   "execution_count": null,
   "id": "82ee7451",
   "metadata": {},
   "outputs": [],
   "source": [
    "save_excel_sheets(tables, Path.cwd() / \"output\" / \"resident_opportunity_breakouts_20250515.xlsx\")"
   ]
  },
  {
   "cell_type": "code",
   "execution_count": null,
   "id": "f9d6dd83",
   "metadata": {},
   "outputs": [],
   "source": []
  }
 ],
 "metadata": {
  "kernelspec": {
   "display_name": "env",
   "language": "python",
   "name": "python3"
  },
  "language_info": {
   "codemirror_mode": {
    "name": "ipython",
    "version": 3
   },
   "file_extension": ".py",
   "mimetype": "text/x-python",
   "name": "python",
   "nbconvert_exporter": "python",
   "pygments_lexer": "ipython3",
   "version": "3.12.10"
  }
 },
 "nbformat": 4,
 "nbformat_minor": 5
}
