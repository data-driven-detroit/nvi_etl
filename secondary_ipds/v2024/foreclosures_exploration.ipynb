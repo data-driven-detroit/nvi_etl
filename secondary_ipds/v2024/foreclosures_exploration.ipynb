{
 "cells": [
  {
   "cell_type": "code",
   "execution_count": 1,
   "id": "3bc81869",
   "metadata": {},
   "outputs": [],
   "source": [
    "import pandas as pd\n",
    "from nvi_etl import make_engine_for\n",
    "from sqlalchemy import text"
   ]
  },
  {
   "cell_type": "code",
   "execution_count": 15,
   "id": "e9e78cb1",
   "metadata": {},
   "outputs": [],
   "source": [
    "q = text(\"\"\"\n",
    "SELECT *\n",
    "FROM raw.regrid_tax_foreclosures_20230308;\n",
    "\"\"\")\n",
    "\n",
    "db = make_engine_for(\"ipds\")\n",
    "\n",
    "fcs = pd.read_sql(q, db)"
   ]
  },
  {
   "cell_type": "code",
   "execution_count": 18,
   "id": "0b626866",
   "metadata": {},
   "outputs": [],
   "source": [
    "stubnames = [\"status\", \"due\", \"tax\", \"fees\"]\n",
    "\n",
    "long = pd.wide_to_long(\n",
    "    fcs.query(\"city=='detroit'\").drop([\"status\", \"due\"], axis=1), \n",
    "    stubnames=stubnames, i=\"parcelnumb\", j=\"year\", sep=\"_\"\n",
    ")[stubnames]"
   ]
  },
  {
   "cell_type": "code",
   "execution_count": 30,
   "id": "97e5331f",
   "metadata": {},
   "outputs": [
    {
     "data": {
      "text/plain": [
       "year\n",
       "2013       441\n",
       "2014       668\n",
       "2015      1424\n",
       "2016      2674\n",
       "2017      3275\n",
       "2018      4244\n",
       "2019      8112\n",
       "2020     24334\n",
       "2021     48677\n",
       "2022    127977\n",
       "Name: count, dtype: int64"
      ]
     },
     "execution_count": 30,
     "metadata": {},
     "output_type": "execute_result"
    }
   ],
   "source": [
    "long.reset_index()[long.reset_index()[\"status\"].notna()][[\"year\"]].value_counts().sort_index()"
   ]
  },
  {
   "cell_type": "code",
   "execution_count": 33,
   "id": "910ff8ec",
   "metadata": {},
   "outputs": [
    {
     "data": {
      "text/plain": [
       "year\n",
       "2013      441\n",
       "2014      668\n",
       "2015     1424\n",
       "2016     2674\n",
       "2017     3270\n",
       "2018     4244\n",
       "2019     8112\n",
       "2020    24332\n",
       "2021    48677\n",
       "Name: count, dtype: int64"
      ]
     },
     "execution_count": 33,
     "metadata": {},
     "output_type": "execute_result"
    }
   ],
   "source": [
    "long[\n",
    "    long.status.notna()\n",
    "    & (long.status != 'UNCONFIRMED')\n",
    "].reset_index()[\"year\"].value_counts().sort_index()"
   ]
  },
  {
   "cell_type": "code",
   "execution_count": null,
   "id": "8dd738fc",
   "metadata": {},
   "outputs": [],
   "source": [
    "from pathlib import Path\n",
    "vault = Path(\"V:\")\n",
    "\n"
   ]
  },
  {
   "cell_type": "code",
   "execution_count": 165,
   "id": "ea92454e",
   "metadata": {},
   "outputs": [],
   "source": [
    "foreclosures_sales_files = [\n",
    "    (2018, \"V:\\\\IPDS\\\\Wayne County Tax Auction\\\\Data\\\\2018\\\\Prepped\\\\wcto_foreclosed__sep_10012018.csv\", {\"BIDDER_NBR\": \"BIDDER_ID\"}),\n",
    "    (2019, \"V:\\\\IPDS\\\\Wayne County Tax Auction\\\\Data\\\\2019\\\\Prepped\\\\wcto_foreclosed__oct_11202019.csv\", {\"BIDDER_NBR\": \"BIDDER_ID\"}),\n",
    "    (2019, \"V:\\\\IPDS\\\\Wayne County Tax Auction\\\\Data\\\\2019\\\\Prepped\\\\wcto_foreclosed__sep_11202019.csv\", {\"BIDDER_NBR\": \"BIDDER_ID\"}),\n",
    "    (2021, \"V:\\\\IPDS\\\\Wayne County Tax Auction\\\\Data\\\\2021\\\\Prepped\\\\wcto_auction__oct_01102022.csv\", {\"BIDDER_NBR\": \"BIDDER_ID\"}),\n",
    "    (2021, \"V:\\\\IPDS\\\\Wayne County Tax Auction\\\\Data\\\\2021\\\\Prepped\\\\wcto_auction__sep_01102022.csv\", {}),\n",
    "    (2022, \"V:\\\\IPDS\\\\Wayne County Tax Auction\\\\Data\\\\2022\\\\Prepped\\\\wcto_auction__oct_10122022.csv\", {\"PROP_CITY_ZIP\": \"PROP_CITY_STATE_ZIP\", \"BIDDER_NBR\": \"BIDDER_ID\"}),\n",
    "    (2022, \"V:\\\\IPDS\\\\Wayne County Tax Auction\\\\Data\\\\2022\\\\Prepped\\\\wcto_auction__sep_10122022.csv\", {\"PROP_CITY_ZIP\": \"PROP_CITY_STATE_ZIP\", \"BIDDER_NBR\": \"BIDDER_ID\"}),\n",
    "    (2023, \"V:\\\\IPDS\\\\Wayne County Tax Auction\\\\Data\\\\2023\\\\Prepped\\\\wcto_auction__dec_01042024.csv\", {\"BIDDER_NBR\": \"BIDDER_ID\", \"PROP_CITY_ZIP\": \"PROP_CITY_STATE_ZIP\"}),\n",
    "    (2023, \"V:\\\\IPDS\\\\Wayne County Tax Auction\\\\Data\\\\2023\\\\Prepped\\\\wcto_auction__oct_01042024.csv\", {\"BIDDER_NBR\": \"BIDDER_ID\", \"PROP_CITY_ZIP\": \"PROP_CITY_STATE_ZIP\"}),\n",
    "    (2023, \"V:\\\\IPDS\\\\Wayne County Tax Auction\\\\Data\\\\2023\\\\Prepped\\\\wcto_auction__sep_10102023.csv\", {\"BIDDER_NBR\": \"BIDDER_ID\", \"PROP_CITY_ZIP\": \"PROP_CITY_STATE_ZIP\"}),\n",
    "    (2024, \"V:\\\\IPDS\\\\Wayne County Tax Auction\\\\Data\\\\2024\\\\Processed\\\\wcto-parcels-sold-in-2024-september-auction.xlsx\", {\"BIDDERNBR\": \"BIDDER_ID\", \"PROP_CITY_ZIP\": \"PROP_CITY_STATE_ZIP\"}),\n",
    "    (2024, \"V:\\\\IPDS\\\\Wayne County Tax Auction\\\\Data\\\\2024\\\\Processed\\\\wcto-properties-sold-in-2024-october-auction-111924_updated.xlsx\", {\"BIDDER_NBR\": \"BIDDER_ID\", \"PROP_CITY_ZIP\": \"PROP_CITY_STATE_ZIP\"}),\n",
    "] "
   ]
  },
  {
   "cell_type": "code",
   "execution_count": 198,
   "id": "fbcb62ef",
   "metadata": {},
   "outputs": [],
   "source": [
    "def fix_errored_ids(row):\n",
    "    try:\n",
    "        pid, *address = row[\"PARCEL_ID\"].split()\n",
    "    except:\n",
    "        return row\n",
    "    if not address:\n",
    "        return row\n",
    "    \n",
    "    row[\"PARCEL_ID\"] = pid\n",
    "    row[\"PROP_ADDRESS\"] = \" \".join(address)\n",
    "\n",
    "    return row\n",
    "\n",
    "\n",
    "def split_city_state_zip(row):\n",
    "    \"\"\"\n",
    "    This needs to handle two cases, ' MI ' in the middle\n",
    "    or not.\n",
    "    \"\"\"\n",
    "    try:\n",
    "        parts = row[\"PROP_CITY_STATE_ZIP\"].split()\n",
    "\n",
    "    except:\n",
    "        try:\n",
    "            row[\"PROP_CITY\"] = row[\"PROP_CITY\"].strip()\n",
    "            row[\"PROP_ZIP\"] = row[\"PROP_ZIP\"].strip()\n",
    "        except:\n",
    "            row[\"PROP_CITY\"] = \"\"\n",
    "            row[\"PROP_ZIP\"] = \"\"\n",
    "\n",
    "        return row\n",
    "\n",
    "    zip_code = parts.pop()\n",
    "\n",
    "    if parts[-1] == \"MI\":\n",
    "        parts.pop() # Throw out MI\n",
    "\n",
    "    row[\"PROP_CITY\"] = \" \".join(parts).upper().strip()\n",
    "    row[\"PROP_ZIP\"] = zip_code.strip()\n",
    "\n",
    "    return row\n",
    "        \n",
    "\n",
    "def fix_bidder_nbr(row):\n",
    "    number, *extra = str(row[\"BIDDER_ID\"]).split()\n",
    "\n",
    "    if not extra:\n",
    "        return row\n",
    "    \n",
    "    row[\"BIDDER_ID\"] = number\n",
    "    row[\"BIDDER_NAME\"] = \" \".join(extra).upper()\n",
    "\n",
    "    return row\n",
    "\n",
    "def split_bdr_city_state_zip(row):\n",
    "    \"\"\"\n",
    "    Always keep the state on this one.\n",
    "    \"\"\"\n",
    "    try:\n",
    "        parts = row[\"BIDDER_CITY_STATE_ZIP\"].split()\n",
    "\n",
    "        if len(parts) < 2:\n",
    "            print(parts)\n",
    "            return row\n",
    "\n",
    "        # There is an assumption here that parts > 1\n",
    "        zip_code = parts.pop()\n",
    "        state = parts.pop()\n",
    "\n",
    "        if len(state) != 2: # Sloppy but OK\n",
    "            parts.append(state)\n",
    "            state = \"\"\n",
    "\n",
    "        row[\"BIDDER_ADDRESS\"] = str(row[\"BIDDER_ADDRESS\"]).upper().strip()\n",
    "        row[\"BIDDER_CITY\"] = \" \".join(parts).upper().strip()\n",
    "        row[\"BIDDER_STATE\"] = str(state).upper().strip()\n",
    "        row[\"BIDDER_ZIP\"] = str(zip_code).strip()\n",
    "\n",
    "        return row\n",
    "\n",
    "    except:\n",
    "        try:\n",
    "            row[\"BIDDER_ADDRESS\"] = str(row[\"BIDDER_ADDRESS\"]).upper()\n",
    "            row[\"BIDDER_CITY\"] = row[\"BIDDER_CITY\"]\n",
    "            row[\"BIDDER_STATE\"] = row[\"BIDDER_STATE\"]\n",
    "            row[\"BIDDER_ZIP\"] = row[\"BIDDER_ZIP\"]\n",
    "        except:\n",
    "            row[\"BIDDER_ADDRESS\"] = str(row[\"BIDDER_ADDRESS\"]).upper()\n",
    "            row[\"BIDDER_CITY\"] = \"\"\n",
    "            row[\"BIDDER_STATE\"] = \"\"\n",
    "            row[\"BIDDER_ZIP\"] = \"\"\n",
    "\n",
    "\n",
    "    return row    "
   ]
  },
  {
   "cell_type": "code",
   "execution_count": 199,
   "id": "7cad9322",
   "metadata": {},
   "outputs": [
    {
     "name": "stdout",
     "output_type": "stream",
     "text": [
      "V:\\IPDS\\Wayne County Tax Auction\\Data\\2018\\Prepped\\wcto_foreclosed__sep_10012018.csv\n",
      "V:\\IPDS\\Wayne County Tax Auction\\Data\\2019\\Prepped\\wcto_foreclosed__oct_11202019.csv\n",
      "V:\\IPDS\\Wayne County Tax Auction\\Data\\2019\\Prepped\\wcto_foreclosed__sep_11202019.csv\n",
      "V:\\IPDS\\Wayne County Tax Auction\\Data\\2021\\Prepped\\wcto_auction__oct_01102022.csv\n",
      "V:\\IPDS\\Wayne County Tax Auction\\Data\\2021\\Prepped\\wcto_auction__sep_01102022.csv\n",
      "V:\\IPDS\\Wayne County Tax Auction\\Data\\2022\\Prepped\\wcto_auction__oct_10122022.csv\n",
      "V:\\IPDS\\Wayne County Tax Auction\\Data\\2022\\Prepped\\wcto_auction__sep_10122022.csv\n",
      "V:\\IPDS\\Wayne County Tax Auction\\Data\\2023\\Prepped\\wcto_auction__dec_01042024.csv\n",
      "V:\\IPDS\\Wayne County Tax Auction\\Data\\2023\\Prepped\\wcto_auction__oct_01042024.csv\n",
      "V:\\IPDS\\Wayne County Tax Auction\\Data\\2023\\Prepped\\wcto_auction__sep_10102023.csv\n",
      "V:\\IPDS\\Wayne County Tax Auction\\Data\\2024\\Processed\\wcto-parcels-sold-in-2024-september-auction.xlsx\n",
      "V:\\IPDS\\Wayne County Tax Auction\\Data\\2024\\Processed\\wcto-properties-sold-in-2024-october-auction-111924_updated.xlsx\n"
     ]
    }
   ],
   "source": [
    "result = []\n",
    "for year, path, rename in foreclosures_sales_files:\n",
    "    print(path)\n",
    "    try:\n",
    "        frame = pd.read_csv(path)\n",
    "\n",
    "    except:\n",
    "        frame = pd.read_excel(path)\n",
    "\n",
    "    if '1' in frame.columns:\n",
    "        frame.columns = frame.iloc[0]\n",
    "\n",
    "    non_matches = set(frame.columns).symmetric_difference({\n",
    "        'PARCEL_ID', 'PROP_ADDRESS', 'PROP_CITY', 'PROP_ZIP', \n",
    "        'SALE_AMOUNT', 'BIDDER_NBR', 'BIDDER_NAME', 'BIDDER_ADDRESS', \n",
    "        'BIDDER_CITY', 'BIDDER_STATE', 'BIDDER_ZIP'\n",
    "    })\n",
    "\n",
    "    if not non_matches:\n",
    "        continue\n",
    "\n",
    "\n",
    "    removed_headers = frame[\n",
    "        frame[\"PARCEL_ID\"] != \"PARCEL_ID\"\n",
    "    ]\n",
    "\n",
    "    try:\n",
    "        result.append(\n",
    "            removed_headers\n",
    "            .rename(columns=rename)\n",
    "            .apply(fix_errored_ids, axis=1)\n",
    "            .apply(split_city_state_zip, axis=1)\n",
    "            .apply(fix_bidder_nbr, axis=1)\n",
    "            .apply(split_bdr_city_state_zip, axis=1)\n",
    "            .assign(auction_year=year)\n",
    "        )\n",
    "    except KeyError as e:\n",
    "        print(non_matches)\n",
    "        print(removed_headers.columns)\n",
    "        print(e)\n",
    "        continue"
   ]
  },
  {
   "cell_type": "code",
   "execution_count": 200,
   "id": "25818624",
   "metadata": {},
   "outputs": [
    {
     "name": "stderr",
     "output_type": "stream",
     "text": [
      "C:\\Users\\mike\\AppData\\Local\\Temp\\ipykernel_24992\\1787191656.py:2: FutureWarning: Downcasting object dtype arrays on .fillna, .ffill, .bfill is deprecated and will change in a future version. Call result.infer_objects(copy=False) instead. To opt-in to the future behavior, set `pd.set_option('future.no_silent_downcasting', True)`\n",
      "  full_set[\"SALE_AMOUNT\"] = full_set[[\"SALE_AMT\", \"SALE_AMOUNT\", \"SALE PRICE\",]].bfill(axis=1).iloc[:, 0]\n"
     ]
    }
   ],
   "source": [
    "full_set = pd.concat(result)[[\"PARCEL_ID\", \"PROP_ADDRESS\", \"PROP_CITY\", \"SALE_AMT\", \"SALE_AMOUNT\", \"SALE PRICE\", \"BIDDER_ID\", \"BIDDER_NAME\", \"BIDDER_ADDRESS\", \"BIDDER_CITY\", \"BIDDER_STATE\", \"BIDDER_ZIP\", \"auction_year\"]]\n",
    "full_set[\"SALE_AMOUNT\"] = full_set[[\"SALE_AMT\", \"SALE_AMOUNT\", \"SALE PRICE\",]].bfill(axis=1).iloc[:, 0]\n",
    "full_set = full_set.drop([\"SALE_AMT\", \"SALE PRICE\"], axis=1)"
   ]
  },
  {
   "cell_type": "code",
   "execution_count": 201,
   "id": "41380f55",
   "metadata": {},
   "outputs": [],
   "source": [
    "# 2020 no foreclosures\n",
    "# 2021 no data\n",
    "# 2022 no data\n",
    "# 2023 "
   ]
  },
  {
   "cell_type": "code",
   "execution_count": 206,
   "id": "8599d48a",
   "metadata": {},
   "outputs": [
    {
     "data": {
      "text/plain": [
       "auction_year\n",
       "2018    2407\n",
       "2019    2031\n",
       "2022    2183\n",
       "2023    1217\n",
       "2024    1537\n",
       "Name: count, dtype: int64"
      ]
     },
     "execution_count": 206,
     "metadata": {},
     "output_type": "execute_result"
    }
   ],
   "source": [
    "full_set[\"auction_year\"].value_counts().sort_index()"
   ]
  },
  {
   "cell_type": "code",
   "execution_count": null,
   "id": "60af1a8a",
   "metadata": {},
   "outputs": [],
   "source": []
  }
 ],
 "metadata": {
  "kernelspec": {
   "display_name": "env",
   "language": "python",
   "name": "python3"
  },
  "language_info": {
   "codemirror_mode": {
    "name": "ipython",
    "version": 3
   },
   "file_extension": ".py",
   "mimetype": "text/x-python",
   "name": "python",
   "nbconvert_exporter": "python",
   "pygments_lexer": "ipython3",
   "version": "3.12.9"
  }
 },
 "nbformat": 4,
 "nbformat_minor": 5
}
